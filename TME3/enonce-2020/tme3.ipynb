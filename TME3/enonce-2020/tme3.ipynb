{
 "cells": [
  {
   "cell_type": "markdown",
   "metadata": {},
   "source": [
    "# Apprentissage de paramètres par maximum de vraisemblance\n",
    "Dans ce TME, l'objectif est d'apprendre grâce à l'estimateur de maximum de vraisemblance les paramètres de lois normales à partir d'un ensemble de données. Ces lois normales seront ensuite exploitées pour faire de la classification (comme nous l'avions vu en cours avec les images de désert, forêt, mer et paysages enneigés).\n",
    "\n",
    "Ici, notre base de données d'apprentissage est la base USPS. Celle-ci contient les images réelles de chiffres provenant de codes postaux écrits manuellement et scannés par le service des postes américain. Ces données scannées ont été normalisées de manière à ce qu'elles soient toutes des images de 16x16 pixels en teintes de gris, cf. Le Cun et al., 1990:\n",
    "\n",
    "Y. LeCun, O. Matan, B. Boser, J. S. Denker, et al. (1990) *Handwritten zip code recognition with multilayer networks*. In ICPR, volume II, pages 35–40.\n",
    "\n",
    "Voici quelques exemples d'images de cette base : \n",
    "\n",
    "<img src=\"usps.png\" title=\"Quelques exemples\">\n"
   ]
  },
  {
   "cell_type": "code",
   "execution_count": 1,
   "metadata": {},
   "outputs": [],
   "source": [
    "import numpy as np\n",
    "import matplotlib.pyplot as plt\n",
    "import pickle as pkl"
   ]
  },
  {
   "cell_type": "markdown",
   "metadata": {},
   "source": [
    "## Chargement des données et premières visualisations\n",
    "\n",
    "Nous utiliserons la librairie pickle qui permet de sérialiser les objets en python (ie, les sauver et les charger très facilement).\n",
    "Une fois les données chargées, nous allons étudier très rapidement la distribution des classes, visualiser une imagette de chiffre et comprendre l'encodage de ces chiffres."
   ]
  },
  {
   "cell_type": "code",
   "execution_count": 2,
   "metadata": {},
   "outputs": [
    {
     "data": {
      "image/png": "[encoded data removed]",
      "text/plain": [
       "<Figure size 432x288 with 1 Axes>"
      ]
     },
     "metadata": {
      "needs_background": "light"
     },
     "output_type": "display_data"
    }
   ],
   "source": [
    "# Chargement des données\n",
    "data = pkl.load(open(\"usps.pkl\",'rb')) \n",
    "# data est un dictionnaire contenant les champs explicites X_train, X_test, Y_train, Y_test\n",
    "X_train = np.array(data[\"X_train\"],dtype=float) # changement de type pour éviter les problèmes d'affichage\n",
    "X_test = np.array(data[\"X_test\"],dtype=float)\n",
    "Y_train = data[\"Y_train\"]\n",
    "Y_test = data[\"Y_test\"]\n",
    "\n",
    "# visualisation de la distribution des étiquettes (dans les 10 classes de chiffres)\n",
    "plt.figure()\n",
    "plt.hist(Y_train, np.linspace(-0.5,9.5,11))\n",
    "plt.hist(Y_test, np.linspace(-0.5,9.5,11))\n",
    "plt.show()\n",
    "#plt.savefig(\"distr_classes.png\")"
   ]
  },
  {
   "cell_type": "code",
   "execution_count": 3,
   "metadata": {},
   "outputs": [
    {
     "name": "stdout",
     "output_type": "stream",
     "text": [
      "(6229, 256)\n",
      "(3069, 256) (6229,) (3069,)\n"
     ]
    },
    {
     "data": {
      "image/png": "[encoded data removed]",
      "text/plain": [
       "<Figure size 432x288 with 1 Axes>"
      ]
     },
     "metadata": {
      "needs_background": "light"
     },
     "output_type": "display_data"
    }
   ],
   "source": [
    "# prise en main des matrices X, Y\n",
    "print(X_train.shape)\n",
    "# 6229 images composées de 256 pixels (image = 16x16)\n",
    "print(X_test.shape,Y_train.shape, Y_test.shape)\n",
    "\n",
    "# Affichage de l'image 18 de la base de données et récupération de l'étiquette associée:\n",
    "# (1) remise en forme de la ligne de 256 pixels en 16x16\n",
    "# (2) affichage avec imshow (en niveaux de gris)\n",
    "# (3) récupération de l'étiquette dans Y_train\n",
    "\n",
    "plt.figure()\n",
    "plt.imshow(X_train[25].reshape(16,16),cmap=\"gray\")\n",
    "plt.title(\"Image de : {}\".format(Y_train[25]))\n",
    "plt.show()"
   ]
  },
  {
   "cell_type": "code",
   "execution_count": 4,
   "metadata": {},
   "outputs": [
    {
     "name": "stdout",
     "output_type": "stream",
     "text": [
      "0.0 2.0\n",
      "niveaux de gris :  2001\n"
     ]
    }
   ],
   "source": [
    "# analyse des valeurs min et max, recherche du nombre de niveaux de gris dans les images:\n",
    "print(X_train.min(),X_train.max() )\n",
    "print(\"niveaux de gris : \", len(np.unique(X_train))) "
   ]
  },
  {
   "cell_type": "markdown",
   "metadata": {},
   "source": [
    "# A. Apprentissage et évaluation d'un modèle gaussien naïf\n",
    "\n",
    "## A1- Maximum de vraisemblance \n",
    "\n",
    "Nous allons étudier la distribution de probabilité des teintes de gris des images (en fait, nous allons étudier sa fonction de densité car on travaille sur des variables aléatoires continues) . Nous allons faire l'hypothèse (certes un peu forte mais tellement pratique) que, dans chaque classe, les teintes des pixels sont mutuellement indépendantes. \n",
    "\n",
    "Autrement dit, si $X_i, i\\in \\{0,...,255\\}$ représente la variable aléatoire \"intensité de gris du ième pixel\", alors $p(X_0,…,X_{255})$ représente la fonction de densité des teintes de gris des images de la classe et: \n",
    "\n",
    "$$p(X_0,,…,X_{255})=\\prod_{i=0}^{255} p(X_i)$$\n",
    "\n",
    "Ainsi, en choisissant au hasard une image dans l'ensemble de toutes les images possibles de la classe, si celle-ci correspond au tableau `np.array([x_0,...,x_255])`, où les $x_i$ sont des nombres réels compris entre 0 et 2, alors la valeur de la fonction de densité de l'image est égale à $p(x_0,...,x_{255}) = \\prod^{255}_{i=0}p(x_i)$. \n",
    "\n",
    "Nous allons de plus supposer que chaque $X_i$ suit une distribution normale de paramètres $(μ_i,σ^2_i)$. Autrement dit, $$\\forall i\\in\\{0,...,255\\}, X_i \\sim {\\cal N}(μ_i,σ^2_i)$$ \n",
    "\n",
    "Par maximum de vraisemblance, estimez, pour une classe donnée, l'ensemble des paramètres $(μ_0,…,μ_{255})$ et $(σ^2_0,…,σ^2_{255})$ pour chaque classe (chiffre de 0 à 9). Pour cela, écrivez une fonction `learnML_parameters : float np.array x float np.array -> float np.array x float np.array` qui, étant donné le tableau d'images , renvoie un couple de tableaux, le premier élément du couple correspondant à l'ensemble des $μ_i$ et le 2ème à l'ensemble des $σ^2_i$. C'est-à-dire que `learnML_parameters` renverra deux matrices:\n",
    "$$ mu \\in \\mathbb R^{10 \\times 256}, sig \\in \\mathbb R^{10 \\times 256}$$\n",
    "\n",
    "* mu contient les moyennes des 256 pixels pour les 10 classes\n",
    "* std contient les écarts-types des 256 pixels pour les 10 classes\n",
    "\n"
   ]
  },
  {
   "cell_type": "code",
   "execution_count": 5,
   "metadata": {},
   "outputs": [
    {
     "name": "stdout",
     "output_type": "stream",
     "text": [
      "(array([[1.53774208e-03, 4.46785940e-03, 1.71216078e-02, ...,\n",
      "        5.52804884e-03, 4.36592998e-04, 0.00000000e+00],\n",
      "       [0.00000000e+00, 0.00000000e+00, 0.00000000e+00, ...,\n",
      "        8.60047313e-04, 0.00000000e+00, 0.00000000e+00],\n",
      "       [5.66214034e-03, 3.91019371e-02, 9.54310485e-02, ...,\n",
      "        2.63856729e-01, 1.66174017e-01, 4.77635884e-02],\n",
      "       ...,\n",
      "       [2.76410683e-02, 1.33777850e-01, 2.48788327e-01, ...,\n",
      "        0.00000000e+00, 0.00000000e+00, 0.00000000e+00],\n",
      "       [2.06394038e-03, 2.22606935e-02, 8.91065952e-02, ...,\n",
      "        5.27686127e-03, 4.13390231e-06, 0.00000000e+00],\n",
      "       [3.83278176e-04, 4.92711950e-03, 7.16530129e-03, ...,\n",
      "        3.97725988e-03, 1.26501013e-03, 0.00000000e+00]]), array([[5.01596286e-02, 7.93695089e-02, 1.46489017e-01, ...,\n",
      "        5.67475697e-02, 1.20193571e-02, 0.00000000e+00],\n",
      "       [0.00000000e+00, 0.00000000e+00, 0.00000000e+00, ...,\n",
      "        1.84452749e-02, 0.00000000e+00, 0.00000000e+00],\n",
      "       [5.37309292e-02, 2.17076868e-01, 3.41133329e-01, ...,\n",
      "        5.43915560e-01, 4.37219911e-01, 1.91311351e-01],\n",
      "       ...,\n",
      "       [1.42151678e-01, 4.05863933e-01, 5.37960296e-01, ...,\n",
      "        0.00000000e+00, 0.00000000e+00, 0.00000000e+00],\n",
      "       [2.55201781e-02, 1.33853558e-01, 3.09542902e-01, ...,\n",
      "        5.95376216e-02, 9.08518498e-05, 0.00000000e+00],\n",
      "       [6.70831973e-03, 8.44174454e-02, 1.03467912e-01, ...,\n",
      "        8.34236708e-02, 2.93689476e-02, 0.00000000e+00]]))\n"
     ]
    }
   ],
   "source": [
    "def learnML_parameters(X,Y):\n",
    "    \"\"\"learnML_parameters : float np.array x float np.array -> float np.array x float np.array\"\"\"\n",
    "    mu = np.array([X[Y == i].mean(axis = 0) for i in range (10)])\n",
    "    \n",
    "    std = np.array([(X[Y == i]).std(axis = 0) for i in range (10)])\n",
    "    return mu,std\n",
    "\n",
    "print (learnML_parameters(X_train,Y_train))\n",
    "    "
   ]
  },
  {
   "cell_type": "code",
   "execution_count": 6,
   "metadata": {},
   "outputs": [
    {
     "name": "stdout",
     "output_type": "stream",
     "text": [
      "(10, 256) (10, 256)\n"
     ]
    }
   ],
   "source": [
    "mu,sig = learnML_parameters ( X_train, Y_train )\n",
    "print(mu.shape, sig.shape) # doit donner (10, 256) (10, 256)"
   ]
  },
  {
   "cell_type": "markdown",
   "metadata": {},
   "source": [
    "Check: pour la classe 0, les paramètres doivent être les suivants\n",
    "```\n",
    "mu[0]=\n",
    "[1.53774208e-03 4.46785940e-03 1.71216078e-02 6.31194048e-02\n",
    " 1.84061642e-01 4.71391665e-01 8.97640989e-01 1.15019928e+00\n",
    " ...\n",
    " 1.42675380e+00 1.03130694e+00 5.32240296e-01 1.74166387e-01\n",
    " 3.57644515e-02 5.52804884e-03 4.36592998e-04 0.00000000e+00]\n",
    "sig[0]=\n",
    "[5.01596286e-02 7.93695089e-02 1.46489017e-01 2.65522337e-01\n",
    " 4.42306204e-01 6.35148001e-01 7.40462105e-01 7.48387032e-01\n",
    " ...\n",
    " 6.62741331e-01 6.75677391e-01 5.86224763e-01 3.56460503e-01\n",
    " 1.71512333e-01 5.67475697e-02 1.20193571e-02 0.00000000e+00]\n",
    "```"
   ]
  },
  {
   "cell_type": "code",
   "execution_count": 7,
   "metadata": {},
   "outputs": [
    {
     "name": "stdout",
     "output_type": "stream",
     "text": [
      "[1.53774208e-03 4.46785940e-03 1.71216078e-02 6.31194048e-02\n",
      " 1.84061642e-01 4.71391665e-01 8.97640989e-01 1.15019928e+00\n",
      " 1.02070900e+00 6.16785408e-01 2.50766353e-01 8.09903122e-02\n",
      " 1.49310824e-02 3.87033274e-03 1.70898437e-04 0.00000000e+00\n",
      " 2.35601434e-03 7.93762565e-03 5.18573940e-02 2.00940178e-01\n",
      " 5.59411980e-01 1.10202446e+00 1.53532559e+00 1.66378367e+00\n",
      " 1.60174400e+00 1.37845195e+00 9.19353768e-01 4.15479248e-01\n",
      " 1.22346858e-01 3.01527050e-02 4.24372534e-03 5.63428995e-06\n",
      " 5.88210737e-03 3.00679919e-02 1.45009354e-01 4.68428296e-01\n",
      " 9.87103163e-01 1.46020945e+00 1.63103905e+00 1.59445846e+00\n",
      " 1.52785712e+00 1.52155705e+00 1.36630499e+00 9.33882722e-01\n",
      " 4.29464169e-01 1.16865928e-01 2.02650169e-02 1.02089895e-03\n",
      " 7.91202062e-03 6.88018163e-02 3.30783411e-01 8.24194929e-01\n",
      " 1.31254975e+00 1.54256605e+00 1.44943446e+00 1.21191395e+00\n",
      " 1.09220056e+00 1.22655949e+00 1.39070742e+00 1.27821441e+00\n",
      " 8.46682745e-01 3.48925595e-01 8.07226924e-02 4.64439750e-03\n",
      " 1.59532081e-02 1.76675445e-01 6.07781794e-01 1.12757141e+00\n",
      " 1.46523519e+00 1.45472469e+00 1.13856317e+00 8.10338934e-01\n",
      " 6.26168286e-01 7.76955398e-01 1.10779727e+00 1.32851374e+00\n",
      " 1.16676063e+00 6.86548686e-01 2.41357803e-01 2.81289553e-02\n",
      " 4.81442913e-02 3.73752078e-01 8.81483647e-01 1.31949916e+00\n",
      " 1.46700523e+00 1.23718114e+00 8.16962582e-01 4.43474916e-01\n",
      " 2.80405642e-01 4.08021647e-01 7.81619032e-01 1.17122113e+00\n",
      " 1.27515733e+00 9.72332353e-01 4.74029267e-01 8.55221959e-02\n",
      " 1.30783142e-01 5.93982138e-01 1.07686306e+00 1.39894059e+00\n",
      " 1.36844099e+00 9.74245539e-01 5.33412071e-01 2.15832907e-01\n",
      " 1.06282689e-01 1.88639261e-01 5.18731675e-01 9.65949319e-01\n",
      " 1.24726249e+00 1.12132596e+00 6.89466858e-01 1.96154590e-01\n",
      " 2.50674651e-01 7.61315399e-01 1.19695898e+00 1.38864862e+00\n",
      " 1.19971341e+00 7.48517123e-01 3.30572606e-01 9.84733976e-02\n",
      " 4.29241342e-02 1.03367730e-01 3.87229277e-01 8.44056198e-01\n",
      " 1.20012881e+00 1.18425086e+00 8.20222630e-01 3.08674699e-01\n",
      " 3.58261634e-01 8.62190202e-01 1.25563738e+00 1.34673373e+00\n",
      " 1.07142879e+00 5.89123140e-01 1.96728277e-01 4.28680832e-02\n",
      " 1.60351829e-02 7.26840328e-02 3.45407532e-01 8.19457636e-01\n",
      " 1.19289312e+00 1.21496732e+00 8.84999523e-01 3.79906737e-01\n",
      " 3.87331813e-01 9.06482830e-01 1.29035945e+00 1.31940006e+00\n",
      " 9.78757769e-01 4.76966465e-01 1.27168587e-01 2.11923134e-02\n",
      " 1.44063591e-02 8.57732477e-02 3.76648466e-01 8.87929238e-01\n",
      " 1.23895217e+00 1.25035519e+00 8.86075297e-01 3.57954944e-01\n",
      " 3.26138273e-01 8.93522235e-01 1.31510628e+00 1.35238794e+00\n",
      " 9.61461921e-01 4.39577541e-01 1.13927428e-01 3.84975505e-02\n",
      " 5.36327846e-02 1.69787235e-01 5.42599817e-01 1.06182197e+00\n",
      " 1.37321399e+00 1.25057057e+00 8.18406790e-01 2.61721288e-01\n",
      " 1.82330468e-01 7.59475951e-01 1.28679207e+00 1.44958046e+00\n",
      " 1.10688967e+00 5.57203861e-01 2.14130381e-01 1.47069378e-01\n",
      " 2.15676089e-01 4.32815974e-01 8.96862446e-01 1.36377634e+00\n",
      " 1.49075578e+00 1.15939639e+00 6.22067020e-01 1.26992220e-01\n",
      " 5.84152687e-02 4.67427550e-01 1.09806340e+00 1.51210615e+00\n",
      " 1.42226714e+00 9.41197788e-01 5.57709665e-01 4.99719957e-01\n",
      " 6.56042283e-01 1.00399766e+00 1.40647827e+00 1.61266601e+00\n",
      " 1.41656614e+00 8.81148097e-01 3.21861387e-01 3.67738419e-02\n",
      " 1.09871555e-02 1.48898601e-01 6.49790437e-01 1.29661503e+00\n",
      " 1.64543706e+00 1.56182002e+00 1.31738978e+00 1.25782812e+00\n",
      " 1.39819160e+00 1.60791875e+00 1.72751589e+00 1.54867872e+00\n",
      " 1.01832667e+00 4.19518357e-01 9.27781289e-02 7.52478765e-03\n",
      " 2.67797390e-03 2.13532309e-02 1.63836169e-01 6.27896414e-01\n",
      " 1.26470542e+00 1.69852879e+00 1.80189263e+00 1.79891885e+00\n",
      " 1.80963883e+00 1.76736086e+00 1.51130342e+00 9.40219832e-01\n",
      " 3.74622653e-01 8.96866275e-02 1.24228554e-02 1.88855453e-03\n",
      " 7.41913845e-05 1.44583295e-03 1.03138830e-02 7.97420072e-02\n",
      " 3.19437704e-01 7.96441981e-01 1.28306524e+00 1.52049088e+00\n",
      " 1.42675380e+00 1.03130694e+00 5.32240296e-01 1.74166387e-01\n",
      " 3.57644515e-02 5.52804884e-03 4.36592998e-04 0.00000000e+00] [5.01596286e-02 7.93695089e-02 1.46489017e-01 2.65522337e-01\n",
      " 4.42306204e-01 6.35148001e-01 7.40462105e-01 7.48387032e-01\n",
      " 7.52036960e-01 6.78162781e-01 4.81813622e-01 2.95993695e-01\n",
      " 1.02298252e-01 6.82956225e-02 3.69197145e-03 0.00000000e+00\n",
      " 5.53305148e-02 9.36063684e-02 2.40012769e-01 4.83422217e-01\n",
      " 7.27502091e-01 8.01985000e-01 6.94079513e-01 6.09677496e-01\n",
      " 6.52843815e-01 7.58749067e-01 8.06674659e-01 6.41779078e-01\n",
      " 3.75508554e-01 1.82421873e-01 5.60909703e-02 1.83784976e-04\n",
      " 9.07390154e-02 1.92883673e-01 4.16989953e-01 7.07690582e-01\n",
      " 8.35158840e-01 7.30403526e-01 6.28008151e-01 6.32851408e-01\n",
      " 6.86100539e-01 6.71979869e-01 7.51457414e-01 8.24431822e-01\n",
      " 6.63627535e-01 3.74208629e-01 1.38194178e-01 2.98619157e-02\n",
      " 9.45533790e-02 2.82750058e-01 6.06158973e-01 8.42184682e-01\n",
      " 8.02525637e-01 6.80684430e-01 7.48069966e-01 8.29618901e-01\n",
      " 8.54595560e-01 8.13916791e-01 7.25657326e-01 7.80928249e-01\n",
      " 8.29105508e-01 6.20032814e-01 3.01234018e-01 5.58154512e-02\n",
      " 1.09365871e-01 4.41834837e-01 7.86403336e-01 8.54671841e-01\n",
      " 7.25871029e-01 7.49769833e-01 8.60018826e-01 8.48475760e-01\n",
      " 7.93461173e-01 8.30151279e-01 8.38238904e-01 7.46830716e-01\n",
      " 8.23250136e-01 8.07749355e-01 5.21476656e-01 1.51179416e-01\n",
      " 1.93296940e-01 6.43519638e-01 8.66847326e-01 7.99175192e-01\n",
      " 7.32236741e-01 8.36613090e-01 8.58973603e-01 7.10036806e-01\n",
      " 5.93002877e-01 6.76919355e-01 8.31300490e-01 8.22357229e-01\n",
      " 7.87742805e-01 8.57211603e-01 7.19108684e-01 2.69220701e-01\n",
      " 3.32313804e-01 7.92583272e-01 8.69718115e-01 7.69382790e-01\n",
      " 7.94654102e-01 8.64282887e-01 7.76566173e-01 5.26547832e-01\n",
      " 3.76112150e-01 4.76751198e-01 7.55143627e-01 8.53824054e-01\n",
      " 7.91149389e-01 8.39106726e-01 8.31564203e-01 4.23639743e-01\n",
      " 4.87032030e-01 8.63470062e-01 8.47748200e-01 7.72816355e-01\n",
      " 8.52947815e-01 8.56126914e-01 6.26520525e-01 3.57070009e-01\n",
      " 2.32239243e-01 3.50765435e-01 6.85159974e-01 8.53280525e-01\n",
      " 8.21682300e-01 8.23020619e-01 8.73898674e-01 5.52603454e-01\n",
      " 6.01596881e-01 8.84913792e-01 8.23667880e-01 7.97195327e-01\n",
      " 8.79116478e-01 8.04003126e-01 4.88515527e-01 2.33873563e-01\n",
      " 1.32954990e-01 2.82824021e-01 6.47546729e-01 8.55150837e-01\n",
      " 8.32743227e-01 8.13760126e-01 8.79500639e-01 6.23278481e-01\n",
      " 6.27274788e-01 8.87553616e-01 8.08346650e-01 7.99217941e-01\n",
      " 8.83241286e-01 7.40576048e-01 3.95873214e-01 1.58194876e-01\n",
      " 1.35774498e-01 3.17394838e-01 6.64478692e-01 8.69441926e-01\n",
      " 8.24799842e-01 8.14857118e-01 8.75637883e-01 5.99084617e-01\n",
      " 5.60878494e-01 8.79172781e-01 7.99994274e-01 7.79500355e-01\n",
      " 8.71300238e-01 7.07469723e-01 3.70424796e-01 2.22900094e-01\n",
      " 2.61840203e-01 4.53336326e-01 7.48030848e-01 8.66036662e-01\n",
      " 7.69580365e-01 8.21516759e-01 8.58901592e-01 4.99634590e-01\n",
      " 3.90619385e-01 8.34941475e-01 8.17641589e-01 7.24679551e-01\n",
      " 8.40919298e-01 7.59144096e-01 5.11722843e-01 4.41270048e-01\n",
      " 5.16084855e-01 6.84294249e-01 8.42083832e-01 7.76860627e-01\n",
      " 7.07485281e-01 8.39049325e-01 7.73085343e-01 3.34022719e-01\n",
      " 2.04963592e-01 6.81793854e-01 8.40705264e-01 6.82730699e-01\n",
      " 7.26315544e-01 8.23864229e-01 7.46543700e-01 7.28041059e-01\n",
      " 7.90768951e-01 8.23062208e-01 7.65169592e-01 6.35267424e-01\n",
      " 7.38940651e-01 8.33830774e-01 5.75147368e-01 1.70537311e-01\n",
      " 9.87858616e-02 3.81298193e-01 7.51553287e-01 7.80270482e-01\n",
      " 5.63772865e-01 6.42284817e-01 7.48036762e-01 7.75665140e-01\n",
      " 7.32949180e-01 6.31842594e-01 5.10614267e-01 6.55642504e-01\n",
      " 8.07719344e-01 6.34404155e-01 3.08036725e-01 7.70031201e-02\n",
      " 4.28491533e-02 1.49241169e-01 3.88664918e-01 7.09137364e-01\n",
      " 7.47600259e-01 5.37788720e-01 4.69614715e-01 4.75974793e-01\n",
      " 4.70450663e-01 5.17338109e-01 6.74591782e-01 7.68727058e-01\n",
      " 5.82843252e-01 2.99680167e-01 9.71493362e-02 5.02788596e-02\n",
      " 2.30063923e-03 3.19935119e-02 8.28517967e-02 2.53333160e-01\n",
      " 4.80454805e-01 6.58647918e-01 6.69771998e-01 6.43217647e-01\n",
      " 6.62741331e-01 6.75677391e-01 5.86224763e-01 3.56460503e-01\n",
      " 1.71512333e-01 5.67475697e-02 1.20193571e-02 0.00000000e+00]\n"
     ]
    }
   ],
   "source": [
    "print(mu[0], sig[0])"
   ]
  },
  {
   "cell_type": "markdown",
   "metadata": {},
   "source": [
    "## A2- Log-vraisemblance d'une image pour une classe\n",
    "\n",
    "Écrivez une fonction `log_likelihood : float np.array x float np.array x float np.array -> float` qui, étant donné une image (donc un tableau de 256 nombres réels) et un couple de paramètres `( array ( [μ0,…,μ255] ), array ( [σ20,…,σ255] ) )`, renvoie la log-vraisemblance qu'aurait l'image selon cet ensemble de $μ_i$ et $σ_i$ (correspondant à une classe de chiffre). Rappelez-vous que (en mettant $-\\frac{1}{2}$ en facteur) : \n",
    "\n",
    "$$\\log(p(x_0,\\cdots,x_{255})=\\sum_{i=0}^{255} \\log p(x_i)=-\\frac{1}{2}\\sum_{i=0}^{255} \\left[ \\log(2\\pi \\sigma^2_i) + \\frac{(x_i-\\mu_i)^2}{\\sigma_i^2} \\right]$$\n",
    "\n",
    "Notez que le module `np` contient une constante `np.pi` ainsi que toutes les fonctions mathématiques classiques directement applicables sur des vecteurs. Vous pouvez donc éventuellement coder la ligne précédente sans boucle, en une ligne.\n",
    "\n",
    "**Attention**: dans la matrice `sig` calculée dans la question précédente, pour certains pixels de certaines classes, la valeur de $σ^2$ est égale à $0$ (toutes les images de la base d'apprentissage avaient exactement la même valeur sur ce pixel). \n",
    "* cette valeur pose problème dans le calcul précédent (division par 0)\n",
    "* Réfléchir à différente manière de traiter ce problème:\n",
    " * faible valeur par défaut de $\\sigma$ reflétant une variance très faible mais évitant la division par 0 (usage de  `np.maximum`par exemple)\n",
    " * vraisemblance de 1 pour le ou les pixels impactés"
   ]
  },
  {
   "cell_type": "code",
   "execution_count": 8,
   "metadata": {},
   "outputs": [],
   "source": [
    "# on utilisera dans le suite le paramètre defsig: \n",
    "#    positif, il donne la valeur minimale d'écart type\n",
    "#    = -1, il faut prendre une vraisemblance de 1 pour les pixels concernés\n",
    "def log_likelihood(img, mu, sig, defsig = 1e-5):\n",
    "    \"\"\"float np.array x float np.array x float np.array -> float\"\"\"\n",
    "    sig_prime = np.where(sig==0, defsig, sig)\n",
    "    return  np.sum(-0.5*(np.log(2*np.pi*(sig_prime**2))+((img-mu)**2)/(sig_prime**2)))"
   ]
  },
  {
   "cell_type": "code",
   "execution_count": 9,
   "metadata": {},
   "outputs": [
    {
     "name": "stdout",
     "output_type": "stream",
     "text": [
      "-90.69963035168726\n",
      "[-90.69963035168726, -231211311074.5327, -364.8317101985202, -487.01085544875843, -513.128064745155, -387.75946984198, -59610.117733618186, -75567222244.77489, -271.980542616389, -857252055.4774221]\n"
     ]
    }
   ],
   "source": [
    "print(log_likelihood(X_train[0], mu[0], sig[0])) \n",
    "# vraisemblance de l'image 0 selon les paramètres de la classe 0\n",
    "\n",
    "print([log_likelihood(X_train[0], mu[i], sig[i]) for i in range(10)]) \n",
    "# vraisemblance de l'image 0 pour toutes les classes"
   ]
  },
  {
   "cell_type": "markdown",
   "metadata": {},
   "source": [
    "Check : le code ci-dessus avec une valeur par défaut de $1e-5$ pour les sigmas nuls doit donner:\n",
    "```\n",
    "-90.69963035168726\n",
    "```\n",
    "puis pour toutes les classes:\n",
    "```\n",
    "[-90.69963035168726, -231211311074.5327, -364.8317101985202, -487.01085544875843, -513.128064745155, -387.75946984198, -59610.117733618186, -75567222244.77489, -271.980542616389, -857252055.4774221]\n",
    "```\n",
    "\n",
    "Avec une vraisemblance de 1 pour les pixels problématiques:\n",
    "```\n",
    "[-111.88760421521835, -1716629080.989729, -364.83171019852006, -487.01085544875855, -544.9100255404516, -387.7594698419803, -59747.8395637312, -581523.2639945432, -303.762503411686, -13497.825910916881]\n",
    "```"
   ]
  },
  {
   "cell_type": "markdown",
   "metadata": {},
   "source": [
    "## A3- Classification d'une image\n",
    "Écrire une fonction `classify_image : float np.array x float np.array x float np.array -> int` qui, étant donnée une image et l'ensemble de paramètres déterminés dans les questions précédentes, renvoie la classe la plus probable de l'image, c'est-à-dire celle dont la log-vraisemblance est la plus grande."
   ]
  },
  {
   "cell_type": "code",
   "execution_count": 10,
   "metadata": {},
   "outputs": [],
   "source": [
    "def classify_image(img, mu, sig, defeps=1e-5):\n",
    "    \"\"\"float np.array x float np.array x float np.array -> int\"\"\"\n",
    "    tab = [log_likelihood(img,mu[i],sig[i],defeps) for i in range(10)]\n",
    "    maxim = np.max(tab)\n",
    "    for i in range (len(tab)):\n",
    "        if(tab[i] == maxim):\n",
    "            return i\n",
    "        "
   ]
  },
  {
   "cell_type": "code",
   "execution_count": 11,
   "metadata": {},
   "outputs": [
    {
     "data": {
      "text/plain": [
       "0"
      ]
     },
     "execution_count": 11,
     "metadata": {},
     "output_type": "execute_result"
    }
   ],
   "source": [
    "# check\n",
    "classify_image(X_train[0], mu, sig)\n",
    "# l'image 0 est de la classe 0"
   ]
  },
  {
   "cell_type": "markdown",
   "metadata": {},
   "source": [
    "## A4- Classification de toutes les images\n",
    "Écrire une fonction `classify_all_images : float np.array x float np.array x float np.array -> float np.array` qui, étant donné un tableau $X$ des images ($N \\times 256$) et l'ensemble de paramètres déterminés dans les questions précédentes, renvoie un tableau $\\hat Y$ qui donne la prédiction de classe pour toutes les images"
   ]
  },
  {
   "cell_type": "code",
   "execution_count": 12,
   "metadata": {},
   "outputs": [],
   "source": [
    "def classify_all_images(X, mu, sig, defeps=1e-5):\n",
    "    return [classify_image(X[i],mu,sig,defeps) for i in range (len(X))]"
   ]
  },
  {
   "cell_type": "code",
   "execution_count": 13,
   "metadata": {},
   "outputs": [
    {
     "name": "stdout",
     "output_type": "stream",
     "text": [
      "[0, 9, 7, 8, 2, 5, 2, 0, 9, 0, 8, 3, 0, 3, 6, 5, 2, 1, 6, 4, 0, 6, 5, 9, 8, 4, 0, 7, 6, 5, 4, 4, 2, 7, 6, 6, 6, 2, 1, 8, 8, 9, 1, 8, 0, 3, 1, 1, 8, 0, 7, 2, 5, 0, 2, 9, 9, 2, 0, 8, 6, 0, 6, 9, 8, 7, 4, 1, 3, 5, 1, 0, 0, 6, 6, 2, 1, 3, 8, 0, 0, 5, 8, 5, 2, 1, 0, 1, 0, 8, 3, 4, 0, 9, 1, 5, 0, 0, 0, 2, 6, 8, 1, 9, 8, 3, 0, 9, 2, 2, 0, 0, 1, 5, 2, 0, 0, 1, 8, 0, 9, 3, 9, 1, 1, 8, 5, 0, 0, 9, 0, 1, 2, 1, 8, 1, 4, 1, 0, 3, 6, 6, 8, 5, 9, 0, 8, 2, 3, 2, 0, 1, 9, 9, 0, 2, 0, 3, 8, 0, 7, 8, 0, 8, 8, 1, 8, 2, 8, 5, 9, 2, 7, 0, 8, 0, 2, 6, 6, 0, 6, 0, 8, 2, 4, 9, 9, 3, 1, 0, 5, 1, 9, 2, 4, 0, 2, 1, 0, 3, 9, 1, 7, 9, 8, 9, 0, 7, 1, 9, 1, 0, 4, 9, 6, 1, 2, 1, 0, 9, 1, 5, 0, 3, 1, 9, 2, 0, 8, 4, 6, 7, 8, 0, 0, 9, 1, 9, 4, 3, 9, 7, 8, 4, 1, 9, 4, 7, 9, 6, 7, 9, 3, 3, 1, 3, 2, 8, 2, 2, 4, 8, 3, 6, 9, 6, 9, 1, 5, 4, 2, 4, 8, 0, 4, 0, 1, 1, 6, 2, 4, 0, 9, 4, 5, 5, 3, 7, 6, 2, 8, 8, 1, 0, 6, 4, 3, 6, 0, 2, 0, 8, 0, 5, 0, 0, 1, 6, 8, 8, 2, 6, 0, 6, 6, 1, 8, 9, 8, 8, 0, 4, 3, 1, 9, 2, 2, 7, 0, 8, 0, 2, 2, 8, 0, 6, 7, 6, 8, 1, 7, 6, 6, 8, 9, 1, 8, 1, 1, 6, 9, 2, 9, 0, 3, 9, 9, 1, 3, 7, 0, 6, 7, 0, 1, 4, 9, 7, 5, 8, 7, 8, 0, 6, 1, 7, 1, 2, 7, 6, 1, 0, 6, 3, 5, 3, 4, 4, 9, 2, 9, 3, 0, 5, 3, 8, 4, 6, 1, 9, 4, 0, 6, 8, 9, 4, 6, 8, 1, 2, 8, 1, 2, 7, 0, 6, 0, 8, 0, 4, 4, 6, 4, 2, 8, 7, 9, 0, 3, 8, 9, 2, 4, 0, 2, 5, 4, 9, 5, 8, 2, 1, 5, 1, 2, 8, 3, 4, 6, 6, 1, 5, 0, 6, 0, 5, 1, 8, 1, 2, 4, 8, 0, 9, 8, 9, 6, 1, 0, 8, 3, 9, 6, 6, 1, 7, 4, 3, 7, 4, 8, 6, 0, 8, 9, 2, 7, 0, 3, 4, 6, 6, 8, 1, 7, 8, 9, 1, 9, 3, 8, 6, 0, 2, 0, 3, 9, 2, 0, 3, 0, 1, 3, 1, 2, 1, 9, 2, 1, 9, 7, 9, 8, 5, 2, 8, 0, 6, 9, 6, 9, 8, 1, 6, 2, 2, 6, 0, 1, 8, 3, 3, 0, 2, 9, 9, 1, 0, 0, 2, 4, 3, 1, 7, 0, 9, 1, 5, 1, 9, 4, 8, 8, 1, 4, 5, 6, 0, 8, 2, 8, 1, 8, 4, 8, 0, 1, 3, 3, 3, 9, 8, 9, 5, 2, 9, 4, 4, 6, 4, 0, 7, 0, 8, 1, 2, 6, 7, 4, 2, 8, 4, 2, 6, 6, 6, 0, 4, 9, 6, 8, 4, 4, 6, 8, 0, 4, 9, 6, 9, 0, 8, 0, 8, 5, 2, 8, 8, 0, 4, 2, 5, 0, 9, 9, 7, 8, 2, 7, 0, 0, 9, 2, 4, 9, 8, 7, 4, 1, 4, 6, 0, 8, 1, 2, 9, 8, 8, 0, 3, 7, 6, 0, 2, 0, 3, 3, 4, 1, 9, 9, 5, 6, 5, 7, 4, 1, 0, 9, 5, 6, 7, 6, 4, 0, 2, 4, 1, 8, 1, 1, 5, 6, 1, 9, 9, 0, 3, 6, 1, 3, 4, 9, 8, 9, 6, 3, 3, 2, 9, 6, 8, 5, 0, 9, 6, 6, 0, 0, 7, 1, 8, 0, 8, 2, 1, 1, 5, 7, 3, 8, 6, 6, 7, 9, 6, 9, 8, 6, 9, 9, 6, 0, 4, 3, 1, 5, 3, 2, 7, 9, 0, 6, 2, 8, 7, 2, 0, 8, 7, 9, 2, 9, 9, 0, 1, 9, 5, 3, 6, 0, 1, 6, 8, 8, 7, 4, 1, 7, 2, 0, 6, 0, 1, 3, 2, 3, 8, 8, 1, 1, 8, 7, 1, 0, 8, 4, 6, 3, 2, 9, 7, 6, 6, 8, 8, 3, 9, 8, 9, 9, 8, 6, 5, 5, 6, 1, 8, 6, 5, 5, 0, 0, 8, 1, 9, 7, 3, 4, 0, 5, 0, 1, 6, 6, 6, 0, 1, 1, 6, 8, 8, 0, 5, 9, 8, 7, 3, 5, 9, 0, 8, 8, 1, 9, 9, 0, 2, 3, 4, 7, 9, 8, 6, 5, 2, 6, 3, 8, 9, 1, 9, 1, 9, 9, 7, 9, 0, 5, 0, 1, 5, 9, 7, 5, 0, 0, 7, 8, 6, 0, 8, 8, 9, 2, 3, 2, 2, 1, 9, 0, 8, 3, 3, 5, 0, 9, 8, 0, 1, 0, 0, 1, 1, 7, 3, 0, 9, 0, 0, 2, 9, 2, 3, 8, 5, 4, 9, 0, 6, 4, 8, 5, 9, 3, 6, 4, 1, 0, 1, 6, 0, 4, 7, 2, 4, 8, 2, 0, 6, 0, 0, 1, 7, 0, 0, 1, 1, 0, 0, 5, 7, 5, 0, 1, 0, 7, 0, 6, 7, 2, 6, 2, 8, 6, 7, 7, 6, 0, 9, 1, 0, 8, 1, 1, 4, 3, 5, 7, 7, 1, 2, 5, 5, 2, 6, 0, 4, 1, 2, 0, 8, 4, 9, 6, 2, 8, 8, 0, 2, 8, 8, 0, 1, 8, 1, 8, 8, 0, 9, 0, 0, 0, 8, 9, 6, 8, 1, 9, 4, 0, 7, 7, 3, 2, 1, 0, 9, 8, 4, 9, 1, 3, 6, 6, 1, 8, 0, 9, 3, 9, 9, 9, 1, 9, 8, 7, 1, 8, 9, 3, 6, 1, 6, 0, 2, 8, 5, 9, 2, 6, 0, 0, 6, 9, 0, 0, 6, 4, 4, 2, 2, 0, 8, 4, 9, 8, 3, 5, 6, 8, 1, 0, 1, 9, 2, 4, 1, 9, 0, 1, 1, 0, 1, 0, 5, 4, 9, 2, 6, 2, 6, 3, 6, 8, 0, 5, 3, 8, 6, 3, 7, 1, 9, 2, 4, 3, 8, 2, 6, 0, 1, 9, 9, 1, 4, 3, 1, 5, 0, 1, 4, 0, 5, 1, 9, 2, 3, 5, 9, 8, 2, 8, 9, 0, 8, 8, 5, 4, 6, 3, 1, 7, 9, 1, 8, 3, 9, 8, 1, 6, 2, 8, 4, 2, 8, 7, 6, 8, 6, 7, 6, 9, 4, 1, 0, 8, 5, 9, 9, 5, 4, 0, 6, 6, 8, 5, 8, 0, 6, 0, 9, 7, 2, 9, 1, 4, 6, 6, 5, 4, 0, 7, 1, 4, 3, 8, 6, 8, 8, 3, 8, 8, 1, 0, 1, 9, 6, 7, 1, 0, 8, 8, 9, 8, 5, 9, 9, 0, 0, 9, 4, 2, 1, 6, 4, 1, 8, 6, 3, 1, 3, 2, 7, 8, 9, 3, 8, 6, 1, 5, 7, 0, 8, 6, 1, 8, 6, 1, 5, 9, 8, 9, 7, 1, 0, 0, 6, 8, 9, 6, 9, 9, 1, 0, 9, 3, 0, 8, 9, 1, 2, 6, 9, 9, 5, 0, 2, 4, 6, 1, 1, 6, 0, 2, 9, 4, 3, 5, 6, 8, 9, 2, 0, 9, 1, 2, 5, 6, 2, 7, 2, 9, 1, 0, 8, 3, 0, 5, 1, 5, 8, 6, 0, 4, 6, 8, 5, 0, 2, 7, 9, 8, 2, 1, 7, 0, 6, 5, 6, 2, 8, 6, 2, 1, 1, 6, 2, 8, 1, 2, 1, 9, 8, 4, 4, 1, 8, 9, 0, 8, 0, 9, 2, 6, 0, 8, 0, 1, 2, 3, 9, 2, 1, 8, 5, 3, 9, 1, 0, 3, 1, 7, 8, 8, 9, 0, 9, 7, 1, 5, 6, 4, 0, 8, 8, 9, 1, 7, 2, 4, 6, 0, 1, 1, 8, 9, 9, 3, 3, 2, 1, 3, 8, 0, 1, 7, 9, 0, 8, 8, 8, 6, 4, 4, 2, 8, 4, 3, 2, 3, 4, 6, 2, 3, 9, 7, 4, 9, 8, 7, 1, 3, 5, 9, 9, 7, 9, 7, 2, 9, 3, 7, 1, 5, 9, 9, 0, 8, 8, 7, 8, 8, 5, 6, 9, 1, 9, 3, 8, 4, 5, 6, 9, 5, 4, 5, 8, 9, 7, 7, 9, 0, 1, 0, 0, 1, 0, 6, 5, 4, 9, 4, 7, 3, 9, 1, 6, 6, 3, 0, 2, 0, 1, 5, 0, 0, 8, 0, 3, 2, 3, 3, 8, 5, 8, 0, 1, 1, 8, 6, 6, 0, 1, 7, 9, 9, 6, 6, 1, 9, 9, 9, 8, 9, 7, 7, 1, 6, 0, 0, 0, 2, 4, 1, 2, 1, 0, 3, 3, 5, 2, 6, 9, 0, 2, 9, 5, 2, 2, 9, 0, 8, 9, 4, 9, 0, 0, 0, 0, 8, 2, 0, 7, 9, 9, 6, 9, 6, 2, 1, 9, 3, 1, 5, 7, 6, 0, 8, 6, 3, 6, 1, 1, 1, 6, 3, 7, 6, 0, 4, 1, 6, 6, 6, 0, 0, 5, 8, 7, 9, 3, 6, 9, 0, 1, 4, 0, 0, 8, 2, 8, 2, 0, 3, 5, 1, 0, 4, 1, 6, 4, 1, 0, 1, 0, 0, 0, 6, 1, 1, 6, 9, 3, 2, 9, 8, 0, 9, 8, 0, 6, 7, 8, 5, 1, 3, 6, 4, 3, 1, 7, 8, 2, 1, 3, 9, 2, 6, 4, 6, 6, 0, 5, 9, 4, 2, 0, 8, 2, 3, 9, 3, 0, 3, 3, 1, 0, 9, 6, 6, 3, 4, 6, 1, 1, 6, 2, 8, 1, 9, 8, 3, 1, 5, 2, 5, 1, 8, 8, 0, 1, 0, 0, 0, 5, 7, 3, 2, 6, 6, 2, 1, 1, 3, 3, 9, 2, 6, 2, 0, 7, 8, 2, 8, 2, 1, 3, 7, 9, 0, 0, 4, 8, 6, 6, 8, 8, 8, 0, 0, 9, 1, 7, 8, 8, 0, 7, 9, 8, 6, 0, 8, 4, 8, 1, 2, 5, 2, 2, 9, 2, 5, 9, 9, 1, 1, 2, 8, 9, 8, 1, 9, 6, 6, 6, 0, 9, 8, 2, 7, 6, 3, 3, 6, 5, 8, 0, 1, 8, 6, 9, 7, 4, 0, 4, 5, 8, 9, 2, 0, 0, 8, 1, 9, 0, 7, 1, 6, 9, 8, 0, 9, 1, 0, 0, 4, 4, 4, 7, 9, 9, 8, 0, 3, 6, 7, 1, 3, 6, 8, 1, 3, 9, 6, 0, 2, 2, 3, 7, 2, 1, 1, 6, 8, 2, 1, 4, 0, 2, 9, 3, 8, 2, 6, 1, 2, 2, 8, 3, 1, 3, 3, 1, 3, 2, 0, 0, 8, 1, 1, 0, 7, 1, 7, 1, 4, 2, 5, 8, 5, 1, 9, 1, 0, 5, 7, 9, 3, 2, 5, 5, 0, 8, 2, 7, 5, 1, 6, 1, 8, 0, 8, 7, 0, 0, 6, 9, 6, 1, 1, 1, 9, 9, 0, 0, 8, 5, 1, 9, 7, 3, 8, 6, 8, 9, 9, 9, 0, 8, 9, 3, 7, 1, 3, 9, 0, 8, 8, 7, 8, 8, 8, 0, 1, 5, 0, 4, 0, 1, 7, 0, 2, 1, 1, 6, 0, 4, 0, 9, 6, 6, 4, 1, 1, 6, 8, 8, 1, 4, 0, 3, 0, 7, 9, 8, 7, 2, 5, 3, 3, 7, 4, 0, 1, 4, 0, 6, 1, 5, 7, 1, 6, 1, 6, 9, 9, 1, 5, 8, 7, 2, 1, 8, 8, 9, 3, 9, 2, 0, 5, 0, 2, 9, 5, 2, 5, 9, 0, 2, 0, 3, 9, 0, 1, 1, 8, 0, 5, 7, 9, 4, 3, 3, 9, 1, 2, 0, 0, 8, 5, 1, 1, 2, 1, 3, 9, 8, 5, 4, 0, 9, 8, 1, 6, 7, 1, 7, 5, 7, 1, 6, 1, 5, 1, 1, 9, 8, 0, 3, 4, 2, 9, 1, 0, 1, 7, 0, 1, 3, 8, 0, 3, 2, 8, 6, 5, 9, 3, 6, 1, 8, 9, 4, 9, 1, 6, 8, 3, 1, 9, 6, 3, 8, 8, 6, 0, 4, 8, 2, 1, 8, 1, 8, 6, 5, 3, 0, 0, 8, 3, 1, 2, 0, 8, 0, 1, 7, 1, 9, 2, 1, 6, 3, 6, 6, 8, 2, 2, 1, 5, 6, 9, 7, 9, 4, 9, 6, 7, 7, 0, 9, 3, 8, 3, 0, 9, 4, 6, 1, 8, 0, 8, 1, 6, 1, 3, 9, 8, 9, 1, 9, 7, 1, 5, 8, 9, 8, 3, 3, 2, 0, 0, 2, 7, 1, 6, 4, 3, 4, 6, 2, 9, 0, 8, 6, 4, 3, 1, 8, 9, 3, 1, 2, 8, 9, 2, 6, 1, 8, 6, 8, 6, 4, 6, 6, 2, 0, 8, 6, 1, 9, 0, 1, 0, 9, 3, 2, 3, 6, 2, 0, 6, 7, 0, 6, 4, 1, 0, 2, 8, 7, 0, 0, 1, 6, 2, 2, 2, 1, 2, 5, 1, 0, 3, 6, 0, 9, 3, 2, 9, 5, 1, 0, 1, 1, 9, 6, 3, 0, 5, 8, 1, 8, 0, 8, 8, 9, 7, 0, 8, 5, 6, 2, 3, 1, 0, 5, 0, 4, 0, 2, 8, 7, 0, 7, 4, 9, 1, 2, 9, 7, 1, 7, 7, 7, 2, 7, 2, 6, 0, 9, 2, 4, 1, 1, 7, 0, 6, 2, 2, 1, 9, 3, 4, 9, 5, 4, 5, 0, 9, 4, 1, 1, 0, 3, 2, 2, 0, 8, 8, 4, 0, 8, 0, 5, 3, 7, 8, 0, 0, 9, 5, 8, 0, 1, 9, 4, 9, 9, 4, 0, 3, 8, 3, 4, 1, 6, 0, 0, 1, 2, 5, 5, 2, 2, 0, 1, 1, 1, 9, 7, 7, 1, 6, 6, 5, 9, 1, 6, 7, 0, 3, 3, 4, 6, 9, 3, 4, 2, 6, 6, 2, 9, 1, 1, 0, 3, 2, 4, 8, 9, 6, 1, 6, 3, 3, 4, 3, 3, 6, 0, 1, 1, 5, 0, 0, 0, 1, 2, 0, 3, 0, 7, 6, 8, 3, 1, 8, 1, 6, 5, 2, 0, 6, 2, 3, 5, 8, 3, 3, 4, 8, 3, 8, 0, 0, 7, 7, 6, 4, 9, 9, 2, 1, 8, 2, 0, 0, 9, 8, 9, 9, 3, 6, 9, 0, 1, 7, 3, 3, 2, 1, 6, 4, 3, 8, 8, 9, 0, 3, 0, 1, 3, 2, 4, 0, 9, 9, 0, 9, 3, 7, 1, 4, 3, 9, 2, 3, 9, 2, 9, 9, 8, 8, 3, 1, 9, 1, 1, 0, 9, 4, 9, 1, 6, 1, 0, 1, 6, 0, 5, 8, 2, 0, 9, 0, 8, 7, 8, 3, 0, 0, 8, 6, 6, 9, 4, 0, 8, 6, 3, 1, 9, 6, 8, 4, 7, 0, 1, 0, 1, 2, 8, 4, 9, 9, 9, 3, 9, 3, 6, 6, 0, 5, 5, 6, 9, 9, 8, 9, 2, 0, 2, 5, 8, 2, 5, 0, 9, 0, 0, 8, 6, 0, 9, 8, 9, 8, 6, 1, 9, 0, 8, 3, 8, 7, 1, 8, 5, 0, 3, 6, 6, 3, 0, 1, 4, 6, 9, 9, 0, 7, 9, 1, 5, 0, 9, 5, 9, 5, 0, 7, 9, 0, 9, 2, 8, 2, 1, 2, 1, 7, 5, 9, 9, 8, 2, 9, 9, 6, 6, 1, 9, 1, 1, 5, 0, 8, 4, 2, 6, 3, 9, 1, 2, 0, 1, 9, 5, 2, 6, 0, 9, 0, 0, 9, 6, 1, 8, 9, 9, 4, 2, 0, 2, 2, 1, 0, 5, 0, 6, 8, 0, 0, 8, 8, 0, 9, 8, 8, 2, 0, 0, 3, 1, 6, 6, 9, 5, 2, 6, 0, 7, 9, 0, 1, 6, 8, 5, 0, 7, 0, 2, 9, 2, 9, 3, 2, 6, 8, 2, 8, 3, 3, 3, 0, 5, 6, 2, 6, 9, 9, 9, 8, 3, 1, 9, 7, 7, 1, 7, 0, 8, 5, 7, 4, 2, 6, 1, 5, 1, 6, 6, 3, 0, 0, 3, 4, 8, 6, 1, 9, 8, 6, 9, 4, 6, 3, 9, 9, 0, 0, 8, 5, 4, 9, 0, 3, 3, 0, 0, 2, 1, 8, 1, 5, 0, 0, 2, 3, 6, 8, 8, 5, 3, 6, 8, 6, 6, 7, 2, 1, 8, 2, 8, 6, 0, 0, 1, 7, 1, 1, 5, 9, 2, 0, 6, 0, 9, 4, 6, 1, 0, 0, 7, 9, 3, 9, 9, 6, 3, 4, 2, 1, 5, 6, 4, 0, 6, 0, 9, 4, 5, 8, 1, 2, 1, 0, 3, 1, 1, 9, 0, 1, 8, 3, 4, 8, 6, 5, 6, 0, 8, 6, 9, 7, 6, 9, 8, 0, 5, 2, 3, 3, 3, 1, 5, 1, 7, 3, 0, 0, 6, 2, 2, 0, 1, 2, 9, 4, 0, 9, 0, 1, 0, 4, 6, 9, 9, 8, 8, 8, 0, 9, 1, 0, 4, 2, 5, 4, 7, 9, 1, 5, 4, 5, 9, 9, 3, 0, 0, 8, 0, 6, 1, 6, 9, 9, 5, 3, 0, 6, 3, 3, 8, 9, 3, 8, 5, 2, 2, 9, 9, 6, 9, 0, 3, 8, 3, 1, 9, 1, 5, 0, 7, 0, 4, 0, 2, 9, 9, 6, 0, 9, 4, 6, 2, 1, 1, 9, 8, 8, 1, 8, 0, 1, 9, 0, 6, 7, 8, 0, 9, 2, 1, 8, 3, 1, 0, 1, 0, 1, 2, 1, 5, 9, 1, 0, 1, 9, 3, 3, 7, 6, 0, 1, 9, 3, 8, 3, 0, 2, 4, 0, 8, 9, 4, 9, 9, 4, 3, 6, 2, 3, 9, 8, 8, 9, 5, 2, 4, 1, 0, 3, 9, 8, 2, 6, 0, 0, 0, 9, 9, 6, 6, 2, 0, 2, 0, 3, 8, 2, 0, 0, 0, 0, 9, 7, 9, 9, 6, 0, 6, 3, 8, 9, 0, 0, 6, 0, 4, 2, 8, 1, 1, 6, 9, 0, 1, 9, 7, 6, 2, 3, 4, 6, 1, 8, 8, 9, 1, 2, 0, 8, 6, 0, 5, 9, 8, 3, 4, 5, 8, 1, 6, 1, 0, 1, 6, 8, 8, 9, 0, 2, 4, 1, 1, 9, 2, 3, 8, 3, 5, 2, 0, 7, 9, 3, 0, 6, 9, 1, 0, 9, 0, 3, 8, 9, 1, 2, 4, 1, 3, 6, 0, 2, 9, 6, 8, 6, 9, 6, 8, 2, 5, 8, 3, 0, 0, 9, 6, 6, 2, 7, 8, 9, 4, 0, 9, 1, 0, 0, 4, 6, 4, 9, 1, 4, 1, 8, 8, 3, 8, 6, 1, 3, 0, 6, 0, 7, 7, 0, 9, 3, 9, 9, 4, 4, 3, 4, 0, 8, 4, 6, 9, 0, 9, 2, 0, 3, 6, 1, 8, 6, 0, 3, 0, 0, 6, 6, 3, 0, 6, 1, 0, 2, 0, 4, 8, 3, 3, 6, 3, 6, 2, 7, 0, 4, 2, 8, 4, 9, 0, 2, 1, 8, 0, 7, 3, 0, 0, 0, 8, 4, 9, 2, 8, 0, 1, 0, 8, 2, 5, 8, 3, 5, 0, 1, 3, 0, 9, 7, 8, 0, 9, 0, 0, 9, 9, 6, 5, 7, 6, 0, 2, 0, 9, 5, 6, 3, 8, 8, 1, 9, 8, 8, 8, 0, 7, 1, 0, 9, 6, 3, 0, 2, 1, 1, 0, 2, 7, 8, 6, 0, 1, 1, 3, 7, 2, 7, 1, 9, 2, 1, 8, 7, 0, 4, 8, 0, 3, 5, 1, 7, 8, 9, 5, 1, 3, 2, 8, 6, 9, 1, 1, 6, 1, 0, 0, 1, 4, 0, 1, 0, 6, 2, 1, 5, 1, 4, 1, 8, 3, 9, 0, 2, 2, 8, 0, 2, 2, 0, 9, 5, 8, 6, 9, 2, 7, 1, 8, 8, 6, 0, 5, 7, 0, 2, 7, 0, 6, 0, 9, 0, 0, 6, 8, 3, 7, 9, 9, 6, 6, 7, 2, 3, 9, 8, 1, 9, 0, 8, 8, 0, 9, 7, 2, 5, 5, 2, 0, 4, 3, 4, 2, 7, 8, 6, 7, 9, 1, 6, 4, 1, 3, 3, 6, 1, 2, 9, 9, 0, 0, 8, 9, 0, 3, 0, 3, 8, 9, 8, 2, 8, 8, 6, 0, 1, 2, 7, 1, 0, 6, 0, 9, 1, 4, 6, 5, 7, 8, 3, 2, 6, 1, 8, 5, 5, 1, 2, 1, 6, 0, 9, 2, 6, 1, 9, 4, 0, 1, 5, 4, 1, 8, 3, 5, 7, 6, 4, 1, 8, 8, 8, 5, 2, 9, 2, 1, 5, 2, 2, 0, 6, 5, 2, 0, 1, 2, 2, 1, 7, 2, 5, 4, 1, 0, 9, 0, 9, 3, 3, 4, 4, 2, 1, 0, 2, 8, 4, 2, 9, 4, 5, 3, 0, 6, 0, 0, 1, 9, 7, 5, 0, 8, 5, 9, 9, 1, 0, 0, 8, 9, 0, 9, 5, 4, 9, 8, 6, 8, 1, 0, 2, 0, 9, 5, 1, 0, 1, 9, 1, 0, 1, 3, 0, 0, 6, 2, 8, 6, 1, 5, 6, 9, 9, 4, 5, 5, 5, 8, 6, 2, 0, 1, 1, 9, 0, 0, 0, 7, 6, 8, 3, 8, 9, 5, 4, 0, 2, 9, 4, 0, 9, 8, 7, 0, 2, 2, 7, 8, 6, 9, 3, 6, 5, 9, 1, 2, 2, 8, 6, 1, 6, 9, 3, 0, 0, 4, 8, 6, 6, 1, 3, 3, 6, 8, 8, 0, 8, 3, 8, 1, 1, 8, 1, 7, 0, 8, 3, 0, 0, 5, 7, 9, 8, 8, 1, 9, 2, 5, 9, 8, 9, 1, 0, 1, 8, 6, 6, 2, 4, 0, 4, 2, 6, 2, 8, 6, 5, 9, 4, 2, 1, 1, 1, 9, 4, 5, 0, 6, 4, 0, 8, 2, 8, 3, 9, 8, 9, 2, 3, 8, 8, 7, 8, 0, 9, 7, 3, 2, 2, 9, 3, 2, 7, 0, 3, 6, 2, 0, 0, 9, 0, 1, 1, 0, 9, 9, 4, 0, 6, 6, 4, 1, 9, 6, 1, 2, 2, 1, 3, 1, 2, 2, 0, 9, 9, 6, 4, 0, 6, 1, 6, 1, 5, 4, 8, 6, 6, 9, 6, 0, 4, 8, 6, 3, 3, 9, 6, 7, 7, 9, 0, 3, 0, 0, 9, 9, 0, 0, 7, 6, 4, 5, 0, 7, 3, 1, 2, 2, 1, 3, 2, 1, 1, 5, 9, 4, 3, 4, 8, 8, 1, 8, 3, 1, 8, 8, 0, 6, 3, 0, 1, 1, 2, 3, 6, 1, 6, 5, 1, 9, 8, 6, 2, 8, 6, 8, 9, 6, 0, 0, 4, 7, 9, 3, 0, 2, 7, 2, 5, 8, 8, 8, 8, 3, 9, 0, 3, 3, 9, 1, 8, 9, 6, 9, 2, 2, 9, 6, 8, 8, 8, 0, 9, 4, 9, 9, 9, 0, 9, 7, 2, 2, 3, 7, 5, 0, 9, 1, 3, 6, 8, 8, 9, 8, 9, 1, 9, 1, 6, 1, 0, 0, 7, 9, 8, 5, 3, 9, 1, 0, 6, 0, 1, 5, 4, 9, 3, 1, 7, 2, 6, 8, 5, 1, 1, 7, 6, 0, 9, 1, 1, 2, 9, 0, 8, 1, 6, 6, 1, 0, 5, 3, 8, 0, 1, 0, 0, 8, 0, 1, 1, 4, 5, 2, 1, 0, 4, 1, 9, 0, 3, 0, 9, 8, 3, 1, 8, 2, 3, 1, 6, 9, 9, 8, 1, 5, 9, 4, 1, 8, 4, 4, 9, 4, 2, 0, 0, 0, 5, 5, 0, 1, 3, 1, 6, 6, 1, 9, 9, 8, 3, 1, 1, 8, 7, 6, 4, 3, 8, 8, 0, 2, 8, 8, 3, 6, 7, 7, 8, 5, 0, 1, 1, 0, 0, 0, 3, 9, 5, 6, 9, 1, 1, 8, 0, 6, 6, 4, 6, 3, 4, 5, 1, 0, 7, 3, 7, 9, 5, 4, 1, 7, 4, 3, 3, 9, 9, 3, 8, 0, 2, 7, 9, 0, 6, 5, 8, 3, 6, 5, 0, 6, 9, 1, 4, 4, 2, 8, 1, 9, 2, 1, 8, 9, 8, 7, 9, 0, 2, 0, 8, 2, 9, 6, 3, 0, 0, 1, 8, 8, 0, 9, 9, 0, 8, 8, 1, 0, 6, 6, 7, 6, 6, 1, 0, 7, 0, 8, 4, 5, 8, 9, 1, 6, 6, 6, 0, 4, 0, 7, 2, 0, 0, 6, 1, 7, 6, 8, 9, 1, 9, 8, 3, 2, 1, 5, 1, 0, 0, 9, 7, 0, 4, 9, 8, 5, 6, 1, 6, 6, 1, 2, 2, 9, 7, 0, 3, 2, 4, 2, 9, 2, 9, 3, 5, 1, 4, 1, 0, 4, 0, 1, 1, 4, 2, 6, 0, 4, 8, 0, 8, 4, 7, 4, 6, 5, 6, 1, 8, 5, 6, 4, 0, 1, 8, 1, 2, 1, 7, 1, 3, 1, 9, 3, 1, 6, 1, 0, 8, 0, 4, 0, 0, 8, 5, 0, 1, 9, 0, 0, 1, 1, 0, 1, 6, 4, 3, 8, 0, 1, 1, 4, 9, 5, 1, 2, 1, 9, 9, 5, 4, 3, 4, 8, 9, 0, 5, 6, 3, 0, 2, 8, 7, 2, 9, 9, 7, 0, 2, 6, 4, 4, 0, 5, 3, 3, 6, 8, 3, 7, 0, 4, 0, 4, 2, 8, 1, 8, 1, 3, 2, 8, 6, 2, 1, 9, 8, 8, 3, 1, 9, 4, 9, 7, 1, 6, 1, 1, 4, 0, 2, 1, 2, 9, 3, 2, 3, 2, 9, 1, 9, 2, 1, 8, 1, 4, 0, 8, 4, 1, 6, 2, 9, 2, 1, 2, 3, 2, 1, 8, 7, 7, 9, 8, 6, 3, 0, 4, 1, 2, 3, 1, 8, 3, 0, 0, 0, 1, 6, 2, 3, 0, 9, 1, 0, 1, 8, 1, 0, 3, 9, 8, 8, 2, 5, 1, 7, 2, 5, 9, 8, 4, 1, 4, 0, 8, 8, 2, 2, 8, 9, 9, 0, 0, 0, 3, 2, 8, 0, 6, 0, 0, 0, 5, 1, 6, 6, 0, 3, 8, 2, 0, 9, 4, 0, 5, 6, 2, 4, 2, 4, 8, 2, 6, 4, 0, 2, 5, 2, 6, 7, 3, 8, 2, 6, 6, 3, 3, 0, 0, 9, 0, 1, 8, 5, 4, 8, 0, 5, 5, 8, 1, 6, 2, 8, 9, 3, 5, 1, 8, 8, 8, 8, 2, 5, 3, 6, 3, 0, 0, 1, 9, 9, 4, 1, 0, 6, 8, 4, 9, 0, 0, 7, 2, 0, 2, 8, 8, 6, 8, 2, 4, 9, 9, 1, 7, 3, 4, 8, 8, 2, 9, 6, 1, 9, 3, 9, 9, 0, 0, 6, 9, 2, 8, 7, 5, 7, 4, 0, 1, 4, 2, 6, 1, 6, 7, 1, 9, 8, 0, 1, 4, 1, 9, 9, 3, 1, 0, 6, 6, 0, 5, 6, 6, 0, 9, 6, 9, 4, 9, 2, 9, 4, 9, 3, 0, 0, 1, 2, 0, 2, 4, 9, 0, 4, 8, 4, 1, 9, 2, 9, 0, 0, 5, 6, 9, 6, 3, 3, 1, 8, 0, 4, 1, 0, 7, 9, 1, 0, 2, 0, 6, 8, 0, 8, 3, 0, 1, 3, 9, 9, 1, 3, 5, 3, 2, 4, 0, 1, 1, 7, 9, 0, 0, 8, 9, 9, 7, 9, 9, 8, 7, 7, 0, 2, 4, 1, 4, 4, 9, 9, 8, 9, 9, 9, 3, 1, 2, 1, 8, 7, 6, 6, 5, 1, 9, 0, 5, 0, 9, 2, 3, 5, 0, 9, 5, 4, 9, 0, 2, 6, 9, 9, 9, 8, 7, 1, 0, 9, 1, 9, 1, 2, 6, 2, 3, 6, 9, 9, 1, 3, 7, 4, 7, 9, 1, 3, 4, 8, 2, 3, 2, 5, 0, 1, 6, 9, 5, 2, 0, 6, 8, 1, 8, 9, 1, 6, 1, 1, 7, 0, 1, 7, 6, 3, 7, 5, 1, 9, 1, 0, 2, 4, 8, 4, 2, 1, 4, 0, 9, 2, 9, 8, 8, 9, 4, 9, 9, 1, 7, 8, 0, 4, 6, 8, 1, 8, 0, 0, 3, 9, 0, 6, 5, 6, 4, 8, 1, 7, 9, 8, 8, 7, 3, 8, 0, 6, 1, 1, 2, 1, 9, 7, 8, 0, 8, 9, 6, 1, 6, 6, 5, 9, 6, 4, 1, 1, 1, 8, 9, 7, 8, 1, 9, 6, 2, 1, 8, 2, 5, 1, 4, 6, 9, 8, 0, 9, 4, 9, 0, 0, 6, 2, 8, 4, 8, 1, 7, 5, 4, 8, 6, 4, 1, 2, 4, 1, 0, 6, 9, 9, 2, 8, 6, 1, 0, 2, 0, 8, 4, 1, 0, 1, 0, 1, 6, 1, 8, 2, 1, 1, 2, 2, 0, 6, 0, 1, 9, 6, 7, 0, 0, 3, 8, 1, 0, 0, 3, 7, 8, 6, 6, 1, 9, 2, 1, 0, 3, 8, 8, 3, 6, 1, 1, 2, 0, 1, 9, 2, 1, 6, 9, 7, 3, 1, 0, 6, 3, 7, 2, 0, 9, 5, 1, 8, 3, 9, 9, 0, 9, 2, 2, 0, 0, 9, 6, 4, 1, 5, 2, 4, 2, 7, 8, 6, 8, 9, 8, 8, 1, 2, 6, 9, 1, 6, 6, 9, 6, 4, 2, 0, 3, 1, 8, 1, 2, 0, 9, 8, 3, 6, 9, 2, 0, 5, 1, 1, 0, 0, 9, 6, 6, 4, 7, 6, 3, 0, 8, 9, 2, 8, 4, 8, 6, 8, 1, 1, 8, 0, 4, 8, 8, 8, 8, 1, 1, 6, 9, 9, 2, 2, 8, 9, 2, 9, 8, 1, 5, 1, 0, 1, 6, 7, 1, 0, 0, 6, 2, 2, 3, 3, 9, 7, 4, 2, 1, 2, 0, 9, 0, 6, 6, 2, 0, 1, 6, 9, 7, 7, 3, 5, 9, 1, 0, 4, 0, 1, 2, 2, 7, 1, 2, 0, 8, 5, 0, 4, 0, 3, 8, 6, 9, 8, 3, 3, 3, 2, 3, 0, 0, 7, 0, 2, 2, 8, 1, 9, 9, 8, 6, 1, 2, 9, 6, 6, 8, 0, 8, 9, 3, 9, 8, 1, 6, 0, 5, 9, 8, 4, 5, 6, 2, 8, 9, 0, 6, 7, 1, 3, 5, 0, 1, 1, 8, 6, 1, 0, 8, 6, 2, 0, 0, 0, 8, 2, 1, 4, 1, 6, 9, 6, 6, 8, 7, 5, 2, 9, 0, 8, 9, 3, 2, 8, 1, 3, 0, 9, 9, 6, 5, 1, 8, 4, 1, 9, 6, 3, 7, 2, 5, 0, 1, 2, 6, 1, 9, 0, 7, 1, 1, 0, 5, 9, 0, 6, 9, 8, 1, 6, 6, 9, 4, 1, 2, 0, 0, 4, 4, 0, 0, 0, 9, 1, 0, 8, 9, 8, 2, 4, 0, 9, 6, 0, 9, 1, 1, 3, 0, 9, 9, 1, 3, 9, 6, 8, 6, 4, 9, 3, 1, 8, 8, 8, 0, 5, 4, 5, 9, 1, 2, 9, 8, 4, 3, 0, 3, 0, 1, 3, 9, 1, 4, 8, 4, 1, 8, 0, 4, 8, 4, 9, 0, 8, 0, 4, 8, 8, 3, 1, 9, 5, 8, 9, 0, 0, 8, 6, 0, 0, 7, 0, 8, 9, 3, 8, 8, 3, 7, 9, 0, 0, 7, 2, 4, 9, 4, 0, 3, 6, 4, 6, 0, 7, 1, 7, 4, 4, 7, 4, 5, 1, 4, 3, 1, 7, 1, 8, 1, 2, 1, 2, 8, 0, 9, 3, 1, 8, 8, 3, 2, 0, 8, 9, 0, 3, 6, 6, 1, 9, 1, 9, 1, 7, 2, 4, 9, 8, 2, 6, 7, 3, 9, 0, 8, 1, 0, 1, 2, 9, 1, 8, 1, 2, 2, 1, 7, 0, 1, 7, 1, 9, 9, 3, 0, 7, 6, 3, 0, 7, 2, 3, 8, 8, 2, 2, 2, 6, 0, 6, 1, 7, 7, 6, 8, 8, 0, 1, 9, 7, 8, 6, 1, 6, 8, 0, 1, 0, 3, 2, 0, 9, 9, 9, 1, 5, 6, 2, 1, 3, 0, 0, 5, 8, 3, 3, 0, 8, 0, 4, 4, 0, 1, 1, 0, 3, 1, 9, 6, 5, 2, 0, 7, 0, 3, 4, 0, 8, 7, 8, 9, 9, 4, 7, 0, 7, 9, 1, 6, 2, 4, 2, 2, 2, 7, 6, 3, 6, 8, 8, 2, 9, 4, 0, 8, 4, 8, 2, 2, 7, 1, 1, 2, 1, 9, 4, 2, 3, 8, 0, 8, 7, 8, 8, 2, 0, 4, 8, 6, 9, 3, 0, 5, 9, 9, 8, 6, 8, 5, 2, 2, 9, 6, 2, 8, 9, 8, 2, 1, 1, 6, 9, 6, 0, 1, 2, 1, 0, 9, 5, 0, 1, 8, 2, 1, 7, 1, 8, 0, 2, 9, 5, 9, 3, 2, 7, 8, 8, 2, 6, 0, 1, 4, 1, 9, 8, 3, 5, 9, 9, 9, 1, 7, 7, 8, 8, 1, 1, 8, 3, 0, 8, 3, 5, 0, 6, 9, 0, 6, 9, 9, 0, 2, 0, 1, 2, 8, 4, 0, 8, 0, 6, 1, 0, 2, 1, 0, 8, 2, 5, 4, 1, 5, 0, 8, 2, 0, 0, 4, 6, 9, 0, 8, 9, 5, 2, 4, 8, 5, 8, 5, 0, 8, 9, 6, 0, 9, 1, 3, 1, 1, 9, 1, 8, 7, 9, 1, 6, 1, 3, 7, 0, 0, 0, 1, 4, 1, 7, 2, 0, 8, 4, 9, 4, 9, 0, 0, 8, 3, 2, 9, 0, 9, 6, 3, 4, 9, 8, 3, 5, 6, 6, 8, 9, 2, 1, 2, 5, 3, 9, 3, 6, 7, 8, 2, 6, 5, 1, 0, 2, 1, 0, 3, 1, 6, 8, 4, 0, 0, 4, 1, 1, 4, 6, 0, 3, 1, 6, 9, 3, 6, 3, 9, 6, 6, 3, 8, 1, 2, 3, 5, 7, 1, 8, 0, 9, 9, 3, 4, 9, 7, 5, 0, 9, 3, 4, 8, 0, 6, 6, 8, 8, 1, 1, 1, 8, 9, 1, 4, 0, 2, 9, 9, 0, 9, 5, 1, 7, 6, 1, 9, 1, 6, 6, 1, 2, 4, 6, 9, 7, 2, 3, 8, 3, 8, 9, 1, 9, 6, 4, 4, 3, 3, 9, 1, 3, 2, 1, 9, 9, 6, 0, 9, 0, 4, 0, 2, 0, 4, 8, 0, 3, 9, 0, 8, 9, 8, 8, 9, 9, 5, 2, 0, 6, 0, 3, 1, 0, 1, 0, 8, 2, 6, 6, 2, 8, 2, 1, 1, 4, 1, 0, 1, 8, 1, 5, 8, 4, 9, 0, 3, 9, 6, 9, 0, 7, 6, 0, 2, 4, 0, 9, 9, 1, 2, 3, 6, 2, 2, 3, 2, 4, 4, 0, 1, 6, 8, 1, 0, 3, 6, 0, 9, 6, 7, 4, 3, 9, 6, 9, 9, 8, 0, 8, 9, 8, 2, 6, 3, 9, 7, 3, 0, 0, 4, 1, 4, 2, 2, 0, 4, 2, 4, 9, 3, 7, 0, 2, 7, 4, 6, 8, 1, 1, 6, 1, 1, 0, 9, 0, 5, 1, 9, 7, 6, 0, 9, 0, 1, 4, 0, 6, 6, 0, 0, 6, 0, 3, 5, 8, 6, 9, 7, 9, 0, 0, 0, 9, 6, 3, 0, 3, 0, 4, 6, 0, 6, 7, 8, 8, 5, 1, 4, 2, 9, 6, 9, 1, 6, 4, 8, 8, 3, 4, 4, 4, 9, 0, 2, 1, 8, 0, 6, 8, 8, 5, 0, 9, 0, 8, 5, 8, 2, 8, 6, 6, 9, 3, 1, 6, 7, 3, 6, 2, 5, 8, 7, 0, 3, 8, 0, 6, 0, 4, 8, 1, 9, 6, 8, 6, 6, 1, 0, 1, 7, 7, 9, 8, 1, 0, 7, 3, 1, 2, 8, 1, 4, 8, 0, 0, 8, 4, 2, 8, 9, 7, 8, 1, 2, 2, 6, 8, 9, 5, 3, 8, 0, 2, 0, 0, 6, 1, 1, 6, 0, 6, 8, 9, 0, 2, 3, 1, 8, 0, 3, 6, 3, 6, 3, 3, 6, 6, 3, 2, 4, 2, 9, 4, 6, 8, 1, 4, 3, 2, 4, 4, 0, 9, 2, 1, 6, 9, 4, 8, 6, 8, 4, 7, 4, 9, 9, 5, 8, 0, 2, 9, 8, 1, 8, 8, 7, 8, 3, 2, 4, 6, 0, 1, 2, 8, 4, 7, 9, 0, 9, 1, 7, 6, 5, 3, 9, 1, 4, 9, 6, 0, 9, 5, 2, 3, 2, 4, 9, 5, 5, 6, 1, 7, 3, 9, 9, 9, 8, 8, 1, 4, 8, 0, 9, 6, 5, 8, 3, 0, 5, 3, 8, 0, 0, 4, 2, 0, 1, 1, 1, 6, 6, 1, 7, 9, 8, 0, 8, 1, 2, 8, 0, 8, 9, 9, 4, 1, 9, 6, 3, 2]\n"
     ]
    }
   ],
   "source": [
    "# check\n",
    "Y_train_hat = classify_all_images(X_train, mu, sig, -1)\n",
    "\n",
    "print(Y_train_hat) # doit rendre: [0 9 7 ... 6 3 2]"
   ]
  },
  {
   "cell_type": "markdown",
   "metadata": {},
   "source": [
    "## A5-Matrice de confusion et affichage du résultat des classifications\n",
    "\n",
    "La matrice de confusion est de la forme $C \\times C$ où $C$ est le nombre de classe. Les lignes sont les vraies classes, les colonnes sont les classes prédites. Chaque case (i,j) contient le nombre d'images correspondant à la vraie classe i et à la prédiction j.\n",
    "Si votre classifieur est performant, vous devriez observer des pics sur la diagonale. \n",
    "\n",
    "La fonction `matrice_confusion(Y, Y_hat)` prend en argument un vecteur d'étiquettes réelles et un vecteur de même taille d'étiquettes prédites et retourne la matrice de confusion.\n",
    "\n",
    "Vous devriez obtenir une matrice de la forme:\n",
    "<img src=\"mat_conf_train.png\" title=\"Matrice de confusion\">"
   ]
  },
  {
   "cell_type": "code",
   "execution_count": 14,
   "metadata": {},
   "outputs": [],
   "source": [
    "def matrice_confusion(Y, Y_hat):\n",
    "    mat_conf = np.zeros((10,10))\n",
    "    for i in range (len(Y)):\n",
    "        mat_conf[Y[i]][Y_hat[i]]+=1\n",
    "    return mat_conf"
   ]
  },
  {
   "cell_type": "code",
   "execution_count": 15,
   "metadata": {},
   "outputs": [
    {
     "name": "stdout",
     "output_type": "stream",
     "text": [
      "Taux de bonne classification: 0.8118478086370204\n"
     ]
    },
    {
     "data": {
      "image/png": "[encoded data removed]",
      "text/plain": [
       "<Figure size 432x288 with 1 Axes>"
      ]
     },
     "metadata": {
      "needs_background": "light"
     },
     "output_type": "display_data"
    }
   ],
   "source": [
    "# affichage de la matrice de confusion\n",
    "m = matrice_confusion(Y_train, Y_train_hat)\n",
    "\n",
    "print(\"Taux de bonne classification: {}\".format(np.where(Y_train == Y_train_hat, 1, 0).mean()))\n",
    "\n",
    "plt.figure()\n",
    "plt.imshow(m)\n",
    "plt.show()"
   ]
  },
  {
   "cell_type": "markdown",
   "metadata": {},
   "source": [
    "## A6- Ensemble d'apprentissage, ensemble de test\n",
    "\n",
    "Dans la procédure que nous avons suivie jusqu'ici, nous avons triché. Les mêmes données servent à apprendre les paramètres et à évaluer le modèle. Evidemment, le modèle est parfaitement adapté et les performances sur-estimées.\n",
    "\n",
    "Afin de réduire ce biais, nous allons maintenant évaluer les performances sur les données de test. Les performances devraient être plus basses... Mais plus réalistes.\n",
    "\n",
    "Effectuer ces calculs et afficher le taux de bonne classification et la matrice de confusion.\n",
    "\n",
    "**Attention:** il faut donc utiliser les paramètres appris sur de nouvelles données sans réapprendre des paramètres spécifiques sinon ça ne marche pas\n",
    "\n",
    "Afin de mieux comprendre les erreurs (et de vérifier vos connaissances sur numpy): afficher une image de chiffre mal classée, son étiquette prédite et son étiquette réelle. \n",
    "Normalement, vous devez retrouver automatiquement que le premier chiffre mal classé est l'image 10:\n",
    "\n",
    "<img src=\"bad_classif.png\" title=\"exemple d'erreur\">"
   ]
  },
  {
   "cell_type": "code",
   "execution_count": 16,
   "metadata": {},
   "outputs": [
    {
     "name": "stdout",
     "output_type": "stream",
     "text": [
      "Taux de bonne classification: 0.7966764418377321\n"
     ]
    },
    {
     "data": {
      "image/png": "[encoded data removed]",
      "text/plain": [
       "<Figure size 432x288 with 1 Axes>"
      ]
     },
     "metadata": {
      "needs_background": "light"
     },
     "output_type": "display_data"
    },
    {
     "name": "stdout",
     "output_type": "stream",
     "text": [
      "classe réelle: 5;prédiction: 6\n"
     ]
    },
    {
     "data": {
      "image/png": "[encoded data removed]",
      "text/plain": [
       "<Figure size 432x288 with 1 Axes>"
      ]
     },
     "metadata": {
      "needs_background": "light"
     },
     "output_type": "display_data"
    }
   ],
   "source": [
    "Y_test_hat = classify_all_images(X_test, mu, sig, -1)\n",
    "# affichage de la matrice de confusion\n",
    "m = matrice_confusion(Y_test, Y_test_hat)\n",
    "\n",
    "print(\"Taux de bonne classification: {}\".format(np.where(Y_test == Y_test_hat, 1, 0).mean()))\n",
    "\n",
    "plt.figure()\n",
    "plt.imshow(m)\n",
    "plt.show()\n",
    "\n",
    "\n",
    "#affichage de la première prédiction erronée\n",
    "for i in range (len(Y_test)):\n",
    "    if(Y_test[i] != Y_test_hat[i]):\n",
    "        print(\"classe réelle: \"+str(Y_test[i]) + \";prédiction: \"+str(Y_test_hat[i]))\n",
    "        plt.imshow(X_test[i].reshape(16,16),cmap=\"gray\")\n",
    "        plt.show()\n",
    "        #supprimer le break pour un affichage de toutes les valeurs éronnées\n",
    "        break"
   ]
  },
  {
   "cell_type": "markdown",
   "metadata": {},
   "source": [
    "# Autres modélisations possibles pour les images\n",
    "\n",
    "## B. Modélisation par une loi de Bernoulli\n",
    "\n",
    "Soit les indices $i$ donnant les images et les indices $j$ référant aux pixels dans l'image, nous cherchons à déterminer la probabilité d'illumination d'un pixel $j$ pour une collection d'image (d'une seule classe, par exemple les $0$).\n",
    "\n",
    "Collection de $0$:\n",
    "$$ X = \\{\\mathbf{x_i}\\}_{i = 1,\\ldots, N}, \\qquad \\mathbf{x_i} \\in \\{0,1\\}^{256}$$\n",
    "\n",
    "Modélisation de la variable de Bernoulli $X_j$, valeur du pixel $j$ en écriture factorisée:\n",
    "$$ p(X_j = x_{ij}) = p_j^{x_{ij}} (1-p_j)^{(1-x_{ij})} = \\left\\{\n",
    "\\begin{array}{ccc}\n",
    "p_j & \\mbox{ si } x_{ij} = 1 \\\\\n",
    "1-p_j & \\mbox{ si } x_{ij} = 0 \\\\\n",
    "\\end{array}\n",
    "\\right.$$\n",
    "\n",
    "Expression de la vraisemblance\n",
    "\n",
    "Maximisation de la vraisemblance $\\Rightarrow$ $\\nabla_{\\theta} \\mathcal L(X, \\theta) = 0$:\n",
    "\n",
    "$$p_j^\\star = \\frac{\\sum_i x_{ij}}{N} $$\n",
    "\n",
    "Intuitif: nombre de $1$ pour le pixel $j$ divisé par le nombre d'image = pourcentage d'illumination du pixel $j$"
   ]
  },
  {
   "cell_type": "code",
   "execution_count": 17,
   "metadata": {},
   "outputs": [
    {
     "data": {
      "image/png": "[encoded data removed]",
      "text/plain": [
       "<Figure size 432x288 with 1 Axes>"
      ]
     },
     "metadata": {
      "needs_background": "light"
     },
     "output_type": "display_data"
    }
   ],
   "source": [
    "# binarisation des images pour coller avec l'hypothèse de Bernoulli:\n",
    "\n",
    "Xb_train = np.where(X_train>0, 1, 0)\n",
    "Xb_test  = np.where(X_test>0, 1, 0)\n",
    "\n",
    "# affichage d'une image binaire:\n",
    "plt.figure()\n",
    "plt.imshow(Xb_train[0].reshape(16,16))\n",
    "plt.show()"
   ]
  },
  {
   "cell_type": "markdown",
   "metadata": {},
   "source": [
    "### B-1: Ecrire la fonction d'apprentissage des paramètres qui retourne la matrice theta suivante:\n",
    "\n",
    "$$ \\theta^\\star = \n",
    " \\left[\n",
    " \\begin{array}{ccc}\n",
    "     [p_0^\\star, \\ldots, p_{255}^\\star] & \\mbox{Paramètres optimaux de la classe 0 au sens du max de vraisembalnce} \\\\\n",
    "     [p_0^\\star, \\ldots, p_{255}^\\star] & \\mbox{Paramètres optimaux de la classe 1 au sens du max de vraisembalnce} \\\\\n",
    "\\vdots & \\\\\n",
    "     [p_0^\\star, \\ldots, p_{255}^\\star] & \\mbox{Paramètres optimaux de la classe 9 au sens du max de vraisembalnce} \\\\\n",
    "\\end{array}\n",
    " \\right]\n",
    " $$\n",
    " \n",
    " Il faut ensuite calculer les :\n",
    " $$ \\log p (\\mathbf{x_i} | \\theta^{(c)}) = \\sum_j \\log p(X_j = x_{ij})  = \\sum_j {x_{ij}} \\log p_j + {(1-x_{ij})}\\log(1-p_j)$$\n",
    " \n",
    " Faire passer les $N$ images dans les $C$ modèles donne un tableau de la forme :\n",
    " $$ \\log p (X | \\theta) =  \\left[\n",
    " \\begin{array}{cccc}\n",
    " \\log p (\\mathbf{x_0} | \\theta^{(0)}) &  \\log p (\\mathbf{x_0} | \\theta^{(1)}) & \\ldots &  \\log p (\\mathbf{x_0} | \\theta^{(9)}) \\\\\n",
    " & \\vdots & \\\\\n",
    " \\log p (\\mathbf{x_N} | \\theta^{(0)}) &  \\log p (\\mathbf{x_N} | \\theta^{(1)}) & \\ldots &  \\log p (\\mathbf{x_N} | \\theta^{(9)}) \\\\\n",
    "  \\end{array}\n",
    " \\right]\n",
    " $$\n",
    " \n",
    " Chaque ligne donne pour une image sa probabilité d'appartenance à chaque classe $c$.\n",
    " Un argmax par ligne donne une estimation de la classe."
   ]
  },
  {
   "cell_type": "code",
   "execution_count": 18,
   "metadata": {},
   "outputs": [],
   "source": [
    "def learnBernoulli ( X,Y ):\n",
    "    return np.array([X[Y == i].mean(axis = 0) for i in range (10)])"
   ]
  },
  {
   "cell_type": "code",
   "execution_count": 19,
   "metadata": {},
   "outputs": [
    {
     "name": "stdout",
     "output_type": "stream",
     "text": [
      "(10, 256)\n",
      "[[0.00093897 0.00657277 0.03192488 ... 0.02347418 0.00375587 0.        ]\n",
      " [0.         0.         0.         ... 0.00233372 0.         0.        ]\n",
      " [0.01941748 0.05987055 0.13430421 ... 0.27993528 0.20711974 0.11326861]\n",
      " ...\n",
      " [0.06666667 0.16078431 0.2745098  ... 0.         0.         0.        ]\n",
      " [0.01033058 0.05371901 0.1322314  ... 0.01446281 0.00206612 0.        ]\n",
      " [0.0037037  0.0037037  0.01111111 ... 0.00555556 0.00185185 0.        ]]\n"
     ]
    }
   ],
   "source": [
    "theta = learnBernoulli ( Xb_train,Y_train )\n",
    "print(theta.shape)\n",
    "print(theta)"
   ]
  },
  {
   "cell_type": "markdown",
   "metadata": {},
   "source": [
    "Check du résultat précédent:\n",
    "```\n",
    "(10, 256)\n",
    "[[0.00093897 0.00657277 0.03192488 ... 0.02347418 0.00375587 0.        ]\n",
    " [0.         0.         0.         ... 0.00233372 0.         0.        ]\n",
    " [0.01941748 0.05987055 0.13430421 ... 0.27993528 0.20711974 0.11326861]\n",
    " ...\n",
    " [0.06666667 0.16078431 0.2745098  ... 0.         0.         0.        ]\n",
    " [0.01033058 0.05371901 0.1322314  ... 0.01446281 0.00206612 0.        ]\n",
    " [0.0037037  0.0037037  0.01111111 ... 0.00555556 0.00185185 0.        ]]\n",
    "```"
   ]
  },
  {
   "cell_type": "markdown",
   "metadata": {},
   "source": [
    "### B-2: Ecrire ensuite une fonction de calcul de la vraisemblance d'une image par rapport à ces paramètres\n",
    "\n",
    "**Attention** $log(0)$ n'est pas défini et $log(1-x)$ avec $x=1$ non plus ! \n",
    "La solution à ce problème est assez simple, il suffit de seuiller les probabilités d'illumination entre $\\epsilon $ et $1-\\epsilon$."
   ]
  },
  {
   "cell_type": "code",
   "execution_count": 26,
   "metadata": {},
   "outputs": [],
   "source": [
    "def logpobsBernoulli(X, theta, epsilon = 1e-4):\n",
    "    theta_prime = np.where(theta<epsilon,epsilon,theta)\n",
    "    theta_prime = np.where(theta_prime>1-epsilon,1-epsilon,theta_prime)\n",
    "    return [np.sum((X*np.log(theta_prime[i]))+((1-X)*np.log(1-theta_prime[i])))for i in range(10)]"
   ]
  },
  {
   "cell_type": "code",
   "execution_count": 27,
   "metadata": {},
   "outputs": [
    {
     "data": {
      "text/plain": [
       "[95.28940214351303,\n",
       " -913.8689430868244,\n",
       " -131.15364865767165,\n",
       " -104.77977756640254,\n",
       " -209.07303016928,\n",
       " -85.1415939159768,\n",
       " -122.04368897876131,\n",
       " -384.1193583284518,\n",
       " -71.06243117872208,\n",
       " -252.53913187915518]"
      ]
     },
     "execution_count": 27,
     "metadata": {},
     "output_type": "execute_result"
    }
   ],
   "source": [
    "logpobsBernoulli(X_train[0], theta)\n",
    "# check avec un epsilon = 1e-4 : \n",
    "# array([  95.28940214, -913.86894309, -131.15364866, -104.77977757,\n",
    "#       -209.07303017,  -85.14159392, -122.04368898, -384.11935833,\n",
    "#        -71.06243118, -252.53913188])\n",
    "\n",
    "# ce résultat vous parait-il normal? Qu'est ce qui peut expliquer cette valeur étonnante?"
   ]
  },
  {
   "cell_type": "markdown",
   "metadata": {},
   "source": [
    "### B-3: Evaluer ensuite vos performances avec les mêmes méthodes que précédemment"
   ]
  },
  {
   "cell_type": "code",
   "execution_count": 29,
   "metadata": {},
   "outputs": [
    {
     "name": "stdout",
     "output_type": "stream",
     "text": [
      "Taux de bonne classification: 0.8533724340175953\n"
     ]
    },
    {
     "data": {
      "image/png": "[encoded data removed]",
      "text/plain": [
       "<Figure size 432x288 with 1 Axes>"
      ]
     },
     "metadata": {
      "needs_background": "light"
     },
     "output_type": "display_data"
    }
   ],
   "source": [
    "Y_test_hat = [np.argmax(logpobsBernoulli(Xb_test[i], theta)) for i in range (len(Xb_test))]\n",
    "\n",
    "m = matrice_confusion(Y_test, Y_test_hat)\n",
    "\n",
    "print(\"Taux de bonne classification: {}\".format(np.where(Y_test == Y_test_hat, 1, 0).mean()))\n",
    "\n",
    "plt.figure()\n",
    "plt.imshow(m)\n",
    "plt.show()"
   ]
  },
  {
   "cell_type": "markdown",
   "metadata": {},
   "source": [
    "# C. Modélisation des profils de chiffre\n",
    "\n",
    "Comme expliquer dans le TD 2, il est possible de jouer avec les profils des images: chaque image est alors séparée en 16 lignes et pour chaque ligne, nous modélisons l'apparition du premier pixel allumé avec une loi géométrique.\n",
    "Pour plus de simplicité, nous vous donnons ci-dessous la fonction de transformation de la base d'image et son application."
   ]
  },
  {
   "cell_type": "code",
   "execution_count": 30,
   "metadata": {},
   "outputs": [],
   "source": [
    "################################################################################\n",
    "# modelisation geometrique\n",
    "def transfoProfil(X):\n",
    "    x2 = []\n",
    "    for x in X:\n",
    "        ind = np.where(np.hstack((x.reshape(16, 16), np.ones((16,1))))>0.3)\n",
    "        x2.append( [ind[1][np.where(ind[0] == i)][0] for i in range(16)])\n",
    "    return np.array(x2)\n",
    "\n",
    "Xg_train = transfoProfil(Xb_train)\n",
    "Xg_test  = transfoProfil(Xb_test)"
   ]
  },
  {
   "cell_type": "code",
   "execution_count": 31,
   "metadata": {},
   "outputs": [
    {
     "name": "stdout",
     "output_type": "stream",
     "text": [
      "[3 2 2 2 2 2 2 1 1 1 2 1 2 2 3 4]\n"
     ]
    }
   ],
   "source": [
    "print(Xg_train[0]) # [3 2 2 2 2 2 2 1 1 1 2 1 2 2 3 4]\n",
    "# une image est maintenant représentée par 16 entiers"
   ]
  },
  {
   "cell_type": "markdown",
   "metadata": {},
   "source": [
    "### C-123: Ecrire les fonctions d'apprentissage des paramètres et de calcul de la vraisemblance avec cette modélisation"
   ]
  },
  {
   "cell_type": "code",
   "execution_count": 77,
   "metadata": {},
   "outputs": [
    {
     "name": "stdout",
     "output_type": "stream",
     "text": [
      "[ 8.64798222  9.5329698  10.13777156  6.81449967 10.51040613  9.55374699\n",
      "  9.73404012  8.47883241  7.70816876  9.11020456]\n"
     ]
    },
    {
     "name": "stderr",
     "output_type": "stream",
     "text": [
      "/usr/local/lib/python3.7/dist-packages/ipykernel_launcher.py:6: RuntimeWarning: invalid value encountered in log\n",
      "  \n"
     ]
    },
    {
     "name": "stdout",
     "output_type": "stream",
     "text": [
      "\n",
      "Taux de bonne classification: 0.14076246334310852\n"
     ]
    },
    {
     "data": {
      "image/png": "[encoded data removed]",
      "text/plain": [
       "<Figure size 432x288 with 1 Axes>"
      ]
     },
     "metadata": {
      "needs_background": "light"
     },
     "output_type": "display_data"
    },
    {
     "data": {
      "image/png": "[encoded data removed]",
      "text/plain": [
       "<Figure size 432x288 with 1 Axes>"
      ]
     },
     "metadata": {
      "needs_background": "light"
     },
     "output_type": "display_data"
    }
   ],
   "source": [
    "def learnGeom (X,Y):\n",
    "    return np.array([X[Y == i].mean(axis = 0) for i in range (10)])\n",
    "    \n",
    "def logpobsGeom(X, theta):\n",
    "    #  ((1 − p)**(n−1))*p\n",
    "    return np.log([np.sum(((1-theta[i])**(X-1))*theta[i]) for i in range(10)])\n",
    "    #return [np.sum(((X-1)*np.log(1-theta[i]))+np.log(theta[i])) for i in range(10)]\n",
    "    \n",
    "theta = learnGeom(Xg_train, Y_train)\n",
    "\n",
    "print(logpobsGeom(Xg_test[1], theta))\n",
    "\n",
    "Y_train_hat = [np.argmax(logpobsGeom(Xg_train[i], theta)) for i in range (len(Xg_train))]\n",
    "Y_test_hat  = [np.argmax(logpobsGeom(Xg_test[i], theta)) for i in range (len(Xg_test))]\n",
    "\n",
    "ma = matrice_confusion(Y_train, Y_train_hat)\n",
    "mt = matrice_confusion(Y_test, Y_test_hat)\n",
    "\n",
    "print(\"\\nTaux de bonne classification: {}\".format(np.where(Y_test == Y_test_hat, 1, 0).mean()))\n",
    "\n",
    "plt.figure()\n",
    "plt.imshow(ma)\n",
    "plt.show()\n",
    "plt.figure()\n",
    "plt.imshow(mt)\n",
    "plt.show()"
   ]
  },
  {
   "cell_type": "markdown",
   "metadata": {},
   "source": [
    "# D. Maximum a posteriori\n",
    "\n",
    "Etant donné les distributions non uniformes de classes observées sur le jeu de donnée:\n",
    "\n",
    "<img src=\"distr_classes.png\" title=\"Distribution des classes\">\n",
    "\n",
    "Calculer les maxima a posteriori avec les différentes modélisations et vérifier s'il y a un gain en performance avec cette modélisation."
   ]
  },
  {
   "cell_type": "code",
   "execution_count": 76,
   "metadata": {},
   "outputs": [
    {
     "name": "stdout",
     "output_type": "stream",
     "text": [
      "[0.17097447 0.13758228 0.09921336 0.09054423 0.08765452 0.0757746\n",
      " 0.09198908 0.0818751  0.07770108 0.08669128]\n"
     ]
    }
   ],
   "source": [
    "# récupération des probabilités a priori sur les données d'apprentissage:\n",
    "p = np.histogram(Y_train, np.linspace(-0.5,9.5,11))\n",
    "p = p[0] / p[0].sum()\n",
    "print(p)\n"
   ]
  },
  {
   "cell_type": "markdown",
   "metadata": {},
   "source": [
    "# E. Fusion de modèle\n",
    "\n",
    "Réussirez-vous à fusionner les sorties des modèles précédents pour améliorer la performance globale en test?\n",
    "* En faisant voter les classifieurs\n",
    "* En pondérant ces votes par leurs performances en apprentissage\n",
    "* En fusionnant les vraisemblances"
   ]
  },
  {
   "cell_type": "code",
   "execution_count": null,
   "metadata": {},
   "outputs": [],
   "source": []
  },
  {
   "cell_type": "markdown",
   "metadata": {},
   "source": [
    "# F. Proposer une modélisation en 16 niveaux de gris basées sur une loi multinomiale"
   ]
  },
  {
   "cell_type": "markdown",
   "metadata": {},
   "source": []
  }
 ],
 "metadata": {
  "kernelspec": {
   "display_name": "Python 3",
   "language": "python",
   "name": "python3"
  },
  "language_info": {
   "codemirror_mode": {
    "name": "ipython",
    "version": 3
   },
   "file_extension": ".py",
   "mimetype": "text/x-python",
   "name": "python",
   "nbconvert_exporter": "python",
   "pygments_lexer": "ipython3",
   "version": "3.7.3"
  }
 },
 "nbformat": 4,
 "nbformat_minor": 4
}
