{
 "cells": [
  {
   "cell_type": "markdown",
   "metadata": {},
   "source": [
    "# TME sur les données blablacar\n",
    "\n",
    "**Ce fichier est le fichier de travail**, l'autre fichier blablacar est donné pour information et pour montrer comment les données ont été collectées."
   ]
  },
  {
   "cell_type": "code",
   "execution_count": 1,
   "metadata": {},
   "outputs": [],
   "source": [
    "import numpy as np\n",
    "import matplotlib.pyplot as plt\n",
    "\n",
    "%reload_ext autoreload\n",
    "%autoreload 2\n",
    "\n",
    "# Interractive plots but can cause weirds bugs\n",
    "%matplotlib notebook\n",
    "\n",
    "# Only draw plots \n",
    "%matplotlib inline\n",
    "\n",
    "import pickle as pkl"
   ]
  },
  {
   "cell_type": "markdown",
   "metadata": {},
   "source": [
    "## Chargement des données\n",
    "\n",
    "Les données sont stockées au format pickle (code fourni ci-dessous):\n",
    "\n",
    "1. Importer le module : import `pickle as pkl`\n",
    "1. Charger les données avec `load`\n",
    "1. La structure est un dictionnaire, les données sont dans le champ `data`\n",
    "1. La description des colonnes est dans `indexcol`"
   ]
  },
  {
   "cell_type": "code",
   "execution_count": 2,
   "metadata": {},
   "outputs": [
    {
     "name": "stdout",
     "output_type": "stream",
     "text": [
      "the file contains 14 elements : ['annee', 'mois', 'jour', 'heure', 'dep_ville', 'arr_ville', 'dep_coord_x', 'dep_coord_y', 'arr_coord_x', 'arr_coord_y', 'prix', 'marque', 'stars_confort', 'distance']\n",
      "data shape (6428, 14)\n",
      "dico_marques {'FORD': 6, 'BMW': 12, 'ISUZU': 32, 'OPEL': 1, 'LAND ROVER': 28, 'LIDER': 33, 'DS': 2, 'AUDI': 49, 'DACIA': 45, 'JAGUAR': 39, 'TOYOTA': 13, 'SUZUKI': 20, 'HUNDAI': 42, 'CITROEN': 17, 'IVECO': 8, 'RENAULT': 15, 'SKODA': 27, 'ROVER': 19, 'MITSUBISHI': 5, 'MERCEDES-BENZ': 35, 'DODGE': 29, 'ALFA ROMEO': 37, 'CHEVROLET': 26, 'LANCIA': 10, 'INFINITI': 36, 'DAEWOO': 30, 'MIETWAGEN': 38, 'VOLKSWAGEN': 3, 'LADA': 0, 'GOLF': 4, 'PORSCHE': 23, 'NISSAN': 40, 'unknown': 43, 'SSANGYONG': 34, 'FIAT': 50, 'SAAB': 14, 'CHRYSLER': 51, 'JEEP': 9, 'TESLA': 47, 'PEUGEOT': 25, 'MERCEDES BENZ': 48, 'MAZDA': 31, 'HONDA': 53, 'RANGE ROVER': 11, 'SMART': 24, 'KIA': 52, 'VOLVO': 46, 'LEXUS': 44, 'SUBARU': 18, 'SEAT': 16, 'MINI': 7, 'SUV LEXUS': 21, 'MERCEDES': 41, 'HYUNDAI': 22}\n"
     ]
    }
   ],
   "source": [
    "# chargement des données\n",
    "fich = pkl.load( open('donnees_blablacar.pkl', 'rb'))\n",
    "\n",
    "# {'indexcol': cols , 'data':pp2db, 'villes': villes, 'marques':marques }\n",
    "titles_col = fich['indexcol']\n",
    "print(\"the file contains\",len(titles_col), \"elements :\", titles_col) \n",
    "data = fich['data']\n",
    "print(\"data shape\",data.shape)\n",
    "dico_villes = fich['villes']\n",
    "dico_marques = fich['marques']\n",
    "print(\"dico_marques\",dico_marques)"
   ]
  },
  {
   "cell_type": "markdown",
   "metadata": {},
   "source": [
    "## Discrétisation et histogramme\n",
    "\n",
    "Nous nous intéressons à la variable `distance` (dernière colonne). Nous allons procéder de la manière suivante:\n",
    "1. Analyse rapide de la variable aléatoire: calcul de la moyenne et de l'écart-type\n",
    "1. Analyse plus fine (1): affichage des 10 quantiles\n",
    "1. Analyse plus fine (2): discrétisation de la variable en 10 intervalles de largeur constante & comptage des effectifs dans chaque catégorie (= construction d'un histogramme)\n",
    " - Construire l'histogramme à la main. (1) calculer les bornes des intervalles puis (2) utiliser `np.where` pour déterminer les effectifs dans chaque classe. Utiliser `plt.bar` pour l'affichage.\n",
    " - Vérifier vos résultats avec `np.histogram` et `plt.hist` pour l'affichage\n",
    " - Comparer les quantiles et les bornes des intervalles discrets\n",
    "1. Discuter le nombre d'intervalles pour l'histogramme et trouver une valeur satisfaisante\n",
    "\n",
    "**Notes** : \n",
    "- dans `np.where`, il faut mettre des parenthèses s'il y a plusieurs clause\n",
    "\n",
    "> `np.where((x>a) & (x<b))` : tous les indices de x qui satisfont la clause\n",
    ">\n",
    "> `np.where((x>a) & (x<b), 1, 0).sum()` : le comptage associé\n",
    "\n",
    "- Dans `plt.bar`, il faut donner une largeur importante aux bar, sinon on ne voit rien"
   ]
  },
  {
   "cell_type": "code",
   "execution_count": 3,
   "metadata": {},
   "outputs": [
    {
     "name": "stdout",
     "output_type": "stream",
     "text": [
      "distance :[136. 208.  61. ...  57. 205. 193.]\n",
      "moyenne 254.74066583696327\n",
      "ecartType 210.07021031617558\n",
      "quantiles [ 64. 101. 182. 358. 552.]\n"
     ]
    }
   ],
   "source": [
    "# Analyse rapide : moyenne, écart-type, calcul des quantiles pour faire la synthèse de cette variable aléatoire\n",
    "\n",
    "d = data[:,-1] # extraction de la variable distance\n",
    "\n",
    "print(f\"distance :{d}\")\n",
    "\n",
    "#Moyenne\n",
    "moyenne = np.sum(d)/d.size\n",
    "print(\"moyenne\",moyenne)\n",
    "\n",
    "#écart-type\n",
    "ecartType = d.std()\n",
    "print(\"ecartType\",ecartType)\n",
    "\n",
    "#quantiles\n",
    "print(\"quantiles\",np.percentile(d,[10,25,50,75,90]))"
   ]
  },
  {
   "cell_type": "code",
   "execution_count": 9,
   "metadata": {},
   "outputs": [
    {
     "name": "stdout",
     "output_type": "stream",
     "text": [
      "(array([3861, 1465,  805,  213,   65,   13,    2,    3,    0,    1],\n",
      "      dtype=int64), array([   6. ,  230.8,  455.6,  680.4,  905.2, 1130. , 1354.8, 1579.6,\n",
      "       1804.4, 2029.2, 2254. ]))\n"
     ]
    },
    {
     "data": {
      "image/png": "[encoded data removed]",
      "text/plain": [
       "<Figure size 432x288 with 1 Axes>"
      ]
     },
     "metadata": {
      "needs_background": "light"
     },
     "output_type": "display_data"
    }
   ],
   "source": [
    "# Discrétisation des distances & histogramme avec np.histogram\n",
    "DistanceHistogram = np.histogram(d)\n",
    "print(DistanceHistogram)\n",
    "plt.hist(d,bins=10, edgecolor=\"black\")\n",
    "plt.show()"
   ]
  },
  {
   "cell_type": "code",
   "execution_count": 5,
   "metadata": {},
   "outputs": [
    {
     "name": "stdout",
     "output_type": "stream",
     "text": [
      "bornes:[6.0, 230.8, 455.6, 680.4000000000001, 905.2, 1130.0, 1354.8000000000002, 1579.6000000000001, 1804.4, 2029.2, 2254.0]\n",
      "effectifs:[3861, 1465, 805, 213, 65, 13, 2, 3, 0, 1]\n"
     ]
    },
    {
     "data": {
      "image/png": "[encoded data removed]",
      "text/plain": [
       "<Figure size 1008x432 with 2 Axes>"
      ]
     },
     "metadata": {
      "needs_background": "light"
     },
     "output_type": "display_data"
    }
   ],
   "source": [
    "# Discrétisation des distances & histogramme a la main\n",
    "n = 10 # nb intervalle\n",
    "interval = (d.max()-d.min())/n\n",
    "bornes = [interval*i+d.min() for i in range(n+1)]\n",
    "\n",
    "# calcul des effectifs avec np.where\n",
    "effectifs = [np.where((d>=bornes[i]) & (d<=bornes[i+1]), 1, 0).sum()for i in range(n)]\n",
    "\n",
    "print(\"bornes:\"+str(bornes)+\"\\neffectifs:\"+str(effectifs))\n",
    "\n",
    "# affichage avec plt.bar = histogramme à la main\n",
    "\n",
    "gridsize = (1,2)\n",
    "fig = plt.figure(figsize=(14,6))\n",
    "ax1 = plt.subplot2grid(gridsize,(0,0))\n",
    "ax2 = plt.subplot2grid(gridsize,(0,1))\n",
    "ax1.bar(bornes[:-1],effectifs,width=interval,align=\"edge\",edgecolor=\"black\")\n",
    "ax1.set_title(\"histogramme fait main\")\n",
    "ax2.hist(d,bins=10,edgecolor=\"black\")\n",
    "ax2.set_title(\"histogramme fait avec plt.hist()\")\n",
    "plt.show()\n"
   ]
  },
  {
   "cell_type": "markdown",
   "metadata": {},
   "source": [
    "## histogramme (bis)\n",
    "Tracer l'histogramme des prix au km"
   ]
  },
  {
   "cell_type": "code",
   "execution_count": 6,
   "metadata": {},
   "outputs": [
    {
     "name": "stdout",
     "output_type": "stream",
     "text": [
      "prix: [ 9. 10.  3. ...  3.  9. 12.]\n",
      "moyenne 13.810205351586808\n",
      "ecartType 11.901760617960669\n",
      "quantiles [ 3.  5.  9. 20. 30.]\n",
      "[7.074222431668238, 22.55056890012642, 36.35930735930736, 53.27835051546392, 65.78571428571429, 78.5, 95.5, 96.0]\n"
     ]
    },
    {
     "data": {
      "image/png": "[encoded data removed]",
      "text/plain": [
       "<Figure size 720x432 with 1 Axes>"
      ]
     },
     "metadata": {
      "needs_background": "light"
     },
     "output_type": "display_data"
    }
   ],
   "source": [
    "# histogramme des prix au km : construction de la variable puis utilisation de np.histogram\n",
    "\n",
    "def distanceString(dist, pos):\n",
    "    return f\"{int(dist)} km\"\n",
    "\n",
    "def moneyString(money, pos):\n",
    "    return f\"{int(money)}€\"\n",
    "\n",
    "prix = data[:,-4]\n",
    "print(f\"prix: {prix}\")\n",
    "\n",
    "#Moyenne\n",
    "moyenne = np.sum(prix)/prix.size\n",
    "print(\"moyenne\",moyenne)\n",
    "\n",
    "#écart-type\n",
    "ecartType = prix.std()\n",
    "print(\"ecartType\",ecartType)\n",
    "\n",
    "#quantiles\n",
    "print(\"quantiles\",np.percentile(prix,[10,25,50,75,90]))\n",
    "\n",
    "n = 8 # nb intervalle\n",
    "interval = (d.max()-d.min())/n\n",
    "bornes = [interval*i+d.min() for i in range(n+1)]\n",
    "\n",
    "effectifs = [np.where((d>=bornes[i]) & (d<=bornes[i+1]), prix, 0) for i in range(n)]\n",
    "effectifsMoyen = [np.sum(eff)/np.count_nonzero(eff) for eff in effectifs] \n",
    "# Il y aura un warning du à une des bornes qui n'aura pas d'informations de trajet dans la tranche de distance\n",
    "# ce qui aura pour résultat une erreur d=pour une division par zéro\n",
    "print(effectifsMoyen)\n",
    "\n",
    "fig, ax = plt.subplots(figsize=(10,6))\n",
    "ax.set(xlabel = \"distance\", ylabel = \"prix\", title = \"Prix au km\" )\n",
    "ax.xaxis.set_major_formatter(distanceString)\n",
    "ax.yaxis.set_major_formatter(moneyString)\n",
    "ax.grid()\n",
    "ax.bar(bornes[:-1],effectifsMoyen,width=interval,align=\"edge\")\n",
    "ax.scatter(d,prix,c='r',alpha=0.5)\n",
    "plt.show()"
   ]
  },
  {
   "cell_type": "markdown",
   "metadata": {},
   "source": [
    "# Distributions jointes, distributions conditionnelles\n",
    "\n",
    "Nous voulons maintenant étudier la distribution jointe entre la distance et la marque de la voiture. Partir des distributions discrètes ou discétisées et construire le tableau d'effectif puis normaliser par les effectifs de l'échantillon pour estimer la loi jointe.\n",
    "\n",
    "Il est diffile d'analyser cette probabilité jointe (cf ci-dessous pour l'affichage)... Nous allons donc passer à la loi conditionnelle: nous voulons donc calculer la probabilité de la distance conditionnellement à la marque de la voiture.\n",
    "\n",
    "1. Proposer un critère rapide pour vérifier que votre distribution conditionnelle respecte bien les propriétés de base\n",
    "1. Cette distribution conditionnelle fait apparaitre des pics très marqués: pouvons-nous tirer parti de ces informations?\n",
    "\n",
    "**Note:** \n",
    "- pour afficher une matrice `p_dm`, la meilleure solution est la suivante:\n",
    "> `plt.imshow(p_dm, interpolation='nearest')`\n",
    ">\n",
    "> `plt.show()`\n",
    "- la variable `marque` est bruitée. Vous pourrez vous amuser à éliminer ou fusionner certaines catégories\n",
    "- les indices dans une matrice doivent toujours être entiers. `int(...)`\n",
    "- pour ajouter une description sur l'axe des x:\n",
    "```python\n",
    "fig, ax = plt.subplots(1,1)\n",
    "plt.imshow(p_dsm, interpolation='nearest')\n",
    "ax.set_xticks(np.arange(len(dico_marques)))\n",
    "ax.set_xticklabels(dico_marques.keys(),rotation=90,fontsize=8)\n",
    "plt.show()\n",
    "```\n",
    "- Si l'image est trop petite pour voir quelque chose: solution = sauvegarde en pdf (ie vectorielle) + ouverture avec un logiciel de lecture pdf\n",
    "```python\n",
    "plt.savefig('mafigure.pdf')\n",
    "```\n",
    "\n"
   ]
  },
  {
   "cell_type": "code",
   "execution_count": 7,
   "metadata": {},
   "outputs": [
    {
     "data": {
      "image/png": "[encoded data removed]",
      "text/plain": [
       "<Figure size 432x288 with 1 Axes>"
      ]
     },
     "metadata": {
      "needs_background": "light"
     },
     "output_type": "display_data"
    }
   ],
   "source": [
    "# loi jointe distance / marque\n",
    "\n",
    "# construction de la distance discrétisée \n",
    "\n",
    "n = 30 # nb intervalle\n",
    "interval = (d.max()-d.min())/n\n",
    "bornes = [interval*i+d.min() for i in range(n+1)]\n",
    "\n",
    "# Dimensions : = (Nind x 1) = mêmes dimensions que d\n",
    "# contenu = catégorie de distance (entre 0 et 29 par exemple si on a discrétisé en 30 catégories)\n",
    "dd = np.zeros(d.shape)\n",
    "\n",
    "# remplissage avec np.where\n",
    "dd = [np.where((d>=bornes[i]) & (d<=bornes[i+1]), 1, 0).sum() for i in range(n)]\n",
    "\n",
    "p_dm = np.zeros((len(bornes)-1, len(dico_marques)))\n",
    "\n",
    "# remplissage de la matrice p_dm = double boucle + comptage\n",
    "\n",
    "distance = data[:,-1]\n",
    "marque = data[:,-3]\n",
    "\n",
    "for categorieMarque in range(len(dico_marques)):\n",
    "    for categorieDist in range(n):\n",
    "        p_dm[categorieDist,categorieMarque] = ((marque==categorieMarque) & (distance>=categorieDist) & (distance<=categorieDist+1)).sum() \n",
    "\n",
    "p_dm /= p_dm.sum() # normalisation\n",
    "\n",
    "# affichage du résultat\n",
    "plt.imshow(p_dm, interpolation='nearest')\n",
    "plt.show()\n",
    " "
   ]
  },
  {
   "cell_type": "code",
   "execution_count": 8,
   "metadata": {},
   "outputs": [
    {
     "ename": "SyntaxError",
     "evalue": "invalid syntax (Temp/ipykernel_540/959471019.py, line 4)",
     "output_type": "error",
     "traceback": [
      "\u001b[1;36m  File \u001b[1;32m\"C:\\Users\\jules\\AppData\\Local\\Temp/ipykernel_540/959471019.py\"\u001b[1;36m, line \u001b[1;32m4\u001b[0m\n\u001b[1;33m    p_m =\u001b[0m\n\u001b[1;37m          ^\u001b[0m\n\u001b[1;31mSyntaxError\u001b[0m\u001b[1;31m:\u001b[0m invalid syntax\n"
     ]
    }
   ],
   "source": [
    "# loi conditionnelle distance | marque\n",
    "# calcul d'une marginale\n",
    "\n",
    "p_m = \n",
    "\n",
    "# calcul de la conditionnelle\n",
    "p_dsm = \n",
    "\n",
    "# affichage\n",
    "fig, ax = plt.subplots(1,1)\n",
    "plt.imshow(p_dsm, interpolation='nearest')\n",
    "ax.set_xticks(np.arange(len(dico_marques)))\n",
    "ax.set_xticklabels(dico_marques.keys(),rotation=90,fontsize=8)\n",
    "plt.show()\n",
    "\n",
    "# proposition d'un critère très rapide pour vérifier qu'il s'agit bien d'une distribution conditionnelle\n"
   ]
  },
  {
   "cell_type": "markdown",
   "metadata": {},
   "source": [
    "## Tracé de l'ensemble de l'échantillon avec des codes couleurs\n",
    "\n",
    "Nous proposons ensuite de tracer toutes les trajectoires des voitures blablacar. Pour cela, il faut utiliser la commande `plt.plot`.\n",
    "Vous devez optenir des étoiles à partir des 7 villes requêtes: `['Paris', 'Marseille', 'Grenoble', 'Lille', 'Strasbourg', 'Nantes', 'Bordeaux']`.\n",
    "Mais on ne voit pas grand chose... Et ça prend beaucoup de temps à tracer avec une boucle for. On propose donc une série d'exercice pour mieux comprendre ce qui se passe.\n",
    "1. Attention à l'ordre des arguments dans le plot:\n",
    "```plt.plot(tous_les_x, tous_les_y)```\n",
    "Afin de tracer des trajectoires, il faut envoyer les x et les y 2 par 2 dans une boucle `for`\n",
    "1. Pour éviter les boucles, il existe une méthode `quiver` dédiée au tracé de champs de vecteurs: ça ira beaucoup plus vite qu'avec plot. Il faut juste bien comprendre les mécanismes d'échelles. Pour utiliser l'échelle 1, la commande est la suivante:\n",
    "```python\n",
    "plt.quiver(x_dep, y_dep, delta_x, delta_y,\\\n",
    "            angles='xy', scale_units='xy', scale=1)\n",
    "```\n",
    "1. Isoler les trajets proposés à partir de chacune des villes sachant les coordonnées sont:\n",
    "```python\n",
    "coord = np.array([[45.18721767,  5.72345183],\n",
    " [47.22572172, -1.56558993],\n",
    " [50.63010695,  3.07071992],\n",
    " [48.5782548,   7.74078742],\n",
    " [44.83848889, -0.58156509],\n",
    " [43.2991509,   5.38925024],\n",
    " [48.8477201,   2.34607889]])\n",
    "```\n",
    "Chaque trajectoire (point de départ) sera rattachée à la ville la plus proche.\n",
    "Une fois la distance calculée pour chaque origine de trajectoire, vous pourrez avoir besoin de `argmin`\n",
    "1. Tracer les trajets d'une couleur spéciale en fonction des origines. \n",
    "\n",
    "Les commandes matplotlib attendent des instructions de couleur au format RGB ou avec des lettres. Je vous propose une solution élégante pour distinguer les villes.\n",
    " - soit l'index de la ville la plus proche sotcké dans `ville_or` (0,...,7)\n",
    " - construire le dictionnaire: `dict({0:'b', 1:'r', 2:'k', 3:'y', 4:'c', 5:'m', 6:'g'})`\n",
    " - transformer `ville_or` en `ville_c` en vectorisant l'appel à la table de hash:\n",
    "```python\n",
    "ville_c = np.vectorize(dico.get)(ville_or)\n",
    "```"
   ]
  },
  {
   "cell_type": "code",
   "execution_count": null,
   "metadata": {},
   "outputs": [],
   "source": [
    "# tracé de l'ensemble des trajectoires avec un code couleur en fonction de la ville de départ\n"
   ]
  },
  {
   "cell_type": "code",
   "execution_count": null,
   "metadata": {},
   "outputs": [],
   "source": [
    "# trouver l'information sur la ville la plus proche\n",
    "\n",
    "coord = np.array([[45.18721767,  5.72345183],\n",
    " [47.22572172, -1.56558993],\n",
    " [50.63010695,  3.07071992],\n",
    " [48.5782548,   7.74078742],\n",
    " [44.83848889, -0.58156509],\n",
    " [43.2991509,   5.38925024],\n",
    " [48.8477201,   2.34607889]])\n",
    "\n",
    "# calcul de la matrice de distance\n",
    "dist =               \n",
    "# indice de la ville d'origine du trajet (plus petite distance dans le tableau ci-dessus)\n",
    "ville_or = \n",
    "\n",
    "# astuce pour construire une correspondance indice => code couleur\n",
    "dico = dict({0:'b', 1:'r', 2:'k', 3:'y', 4:'c', 5:'m', 6:'g'})\n",
    "ville_c = np.vectorize(dico.get)(ville_or)\n",
    "\n",
    "plt.figure()\n",
    "plt.quiver([... coordonnées des vecteurs ...]\\\n",
    "           color= ville_c,  angles='xy', scale_units='xy', scale=1)\n",
    "plt.show()"
   ]
  },
  {
   "cell_type": "markdown",
   "metadata": {},
   "source": [
    "## Etude de la corrélation entre variables\n",
    "\n",
    "On propose d'étudier la corrélation entre la distance du trajet et le nombre d'étoiles de confort. Attention, les étoiles ne sont pas toujours renseignées (-1 = inconnu). On fera aussi ces opérations entre la distance et le prix.\n",
    "\n",
    "1. Tracer dans le plan les coordonnées (distance,etoile) pour les points concernés\n",
    "\n",
    "Vous utiliserez la commande `scatter` pour réaliser l'opération\n",
    "1. Calculer le coefficient de corrélation entre les deux variables aléatoires\n"
   ]
  },
  {
   "cell_type": "code",
   "execution_count": null,
   "metadata": {},
   "outputs": [],
   "source": [
    "# test de corrélation entre la distance et le confort de la voiture\n",
    "plt.figure()\n",
    "# affichage du nuage de points correspondant au deux variables\n",
    "plt.show()\n",
    "\n",
    "# calcul du coefficient de corrélation pour tous les points admissibles \n",
    "# (ceux pour lesquels les étoiles sont renseignées)\n",
    "\n",
    "# test de corrélation entre la distance et le prix\n",
    "plt.figure()\n",
    "# affichage du nuage de points correspondant au deux variables\n",
    "plt.show()\n",
    "\n",
    "# calcul du coefficient de corrélation pour tous les points admissibles \n",
    "\n"
   ]
  },
  {
   "cell_type": "markdown",
   "metadata": {},
   "source": [
    "## Quelques questions supplémentaires\n",
    "\n",
    "### prix au kilomètre en fonction de l'origine\n",
    "On s'intérroge sur le prix des courses en fonction des villes de départ. On ne veut pas tomber dans des pièges liés à des résumés simplistes, nous allons donc calculer la distribution jointe (prix_km, ville_origine).\n",
    "1. Mettre au propre le code de discretisation en construisant une méthode de signature:\n",
    "```python\n",
    "def discretisation(x, nintervalles):\n",
    "    #[...]\n",
    "    return bornes, effectifs, xd \n",
    "```\n",
    "1. Mettre au propre le code de calcul de la loi jointe entre deux échantillons de variables aléatoires discrètes\n",
    "```python\n",
    "def pjointe(xd, yd):\n",
    "    #[...]\n",
    "    return pj\n",
    "```\n",
    "1. En l'état, nous avons du mal à analyser les données. Ceci est du aux valeurs extrêmes (notamment hautes). Afin de rendre l'analyse robuste, seuiller le prix au km au 99ème percentile (toutes les valeurs supérieures sont ramenées à cette valeur limite).\n",
    "1. Proposer quelques analyses.\n",
    "\n",
    "### même analyse pour voir dans quelle ville les gens sont plus matinaux, s'ils partent plus vers le sud ou le nord, l'est ou l'ouest...\n",
    "\n",
    "Si vous étiez un journaliste en manque de sujet de reportage, quel(s) graphique(s) calculeriez vous à partir de ces données? \n"
   ]
  },
  {
   "cell_type": "code",
   "execution_count": null,
   "metadata": {},
   "outputs": [],
   "source": [
    "def discretisation(x, nintervalles, eps = 0.0000001) :\n",
    "    # [...]\n",
    "    return bornes, effectifs, xd\n",
    "\n",
    "def pjointe(xd, yd): # variable codées de 0 à valmax\n",
    "    # [...]\n",
    "    return pj"
   ]
  },
  {
   "cell_type": "code",
   "execution_count": null,
   "metadata": {},
   "outputs": [],
   "source": [
    "# prix km\n",
    "pkm = data[:,-4]/data[:,-1]\n",
    "n = 30 # nb catégories\n",
    "\n",
    "# robustesse : calcul du 99è percentile et seuillage des valeurs\n",
    "\n",
    "bornes, effectifs, pkmd = discretisation(pkm, n)\n",
    "\n",
    "pj = pjointe(pkmd,ville_or)\n",
    "\n",
    "pv =       # calcul de la marginale\n",
    "p_km_s_v = # calcul de la conditionnelle\n",
    "\n",
    "fig, ax = plt.subplots(1,1)\n",
    "plt.imshow(p_km_s_v, interpolation='nearest')\n",
    "plt.show()\n",
    "\n",
    "# analyses"
   ]
  },
  {
   "cell_type": "code",
   "execution_count": null,
   "metadata": {},
   "outputs": [],
   "source": []
  }
 ],
 "metadata": {
  "celltoolbar": "Aucun(e)",
  "interpreter": {
   "hash": "c54729246953d9d2ad4ddf8d564d920ffef127c8bf3a29f89ddabc8e69a6293a"
  },
  "kernelspec": {
   "display_name": "Python 3 (ipykernel)",
   "language": "python",
   "name": "python3"
  },
  "language_info": {
   "codemirror_mode": {
    "name": "ipython",
    "version": 3
   },
   "file_extension": ".py",
   "mimetype": "text/x-python",
   "name": "python",
   "nbconvert_exporter": "python",
   "pygments_lexer": "ipython3",
   "version": "3.9.9"
  }
 },
 "nbformat": 4,
 "nbformat_minor": 2
}
