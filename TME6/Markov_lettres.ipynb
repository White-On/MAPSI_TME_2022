{
 "cells": [
  {
   "cell_type": "markdown",
   "metadata": {},
   "source": [
    "# TME sur la classification de lettres manuscrites\n",
    "## Format des données\n",
    "Nous travaillerons sur des lettres manuscrites.\n",
    "Les données sont fournies au format pickle (le standard de sérialisation python, particulièrement convivial). Pour les charger : "
   ]
  },
  {
   "cell_type": "code",
   "execution_count": 1,
   "metadata": {},
   "outputs": [],
   "source": [
    "import numpy as np\n",
    "import pickle as pkl\n",
    "import matplotlib.pyplot as plt\n",
    "\n",
    "with open('ressources/lettres.pkl', 'rb') as f:\n",
    "    data = pkl.load(f, encoding='latin1') \n",
    "X = np.array(data.get('letters'), dtype=object) # récupération des données sur les lettres\n",
    "Y = np.array(data.get('labels'), dtype=object) # récupération des étiquettes associées "
   ]
  },
  {
   "cell_type": "markdown",
   "metadata": {},
   "source": [
    "Les données sont dans un format original: une lettre est en fait une série d'angles (exprimés en degrés). Un exemple: "
   ]
  },
  {
   "cell_type": "code",
   "execution_count": 416,
   "metadata": {},
   "outputs": [
    {
     "data": {
      "text/plain": [
       "array([ 36.214493, 347.719116, 322.088898, 312.230957, 314.851013,\n",
       "       315.487213, 313.556702, 326.534973, 141.288971, 167.606689,\n",
       "       199.321594, 217.911087, 226.443298, 235.002472, 252.354492,\n",
       "       270.045654, 291.665161, 350.934723,  17.892815,  20.281025,\n",
       "        28.207161,  43.883423,  53.459026])"
      ]
     },
     "execution_count": 416,
     "metadata": {},
     "output_type": "execute_result"
    }
   ],
   "source": [
    "X[0] # affichage de la première lettre"
   ]
  },
  {
   "cell_type": "markdown",
   "metadata": {},
   "source": [
    "Lors de l'acquisition, un stylo intelligent a pris des mesures régulièrement dans le temps: chaque période correspond à un segment de droite et le stylo a calculé l'angle entre deux segments consécutifs... C'est l'information qui vous est fournie.\n",
    "\n",
    "Pour afficher une lettre, il faut reconstruire la trajectoire enregistrée... C'est ce que fait la méthode ci-dessous: "
   ]
  },
  {
   "cell_type": "code",
   "execution_count": 3,
   "metadata": {},
   "outputs": [],
   "source": [
    "# affichage d'une lettre\n",
    "def tracerLettre(let):\n",
    "    a = -let*np.pi/180; # conversion en rad\n",
    "    coord = np.array([[0, 0]]); # point initial\n",
    "    for i in range(len(a)):\n",
    "        x = np.array([[1, 0]]);\n",
    "        rot = np.array([[np.cos(a[i]), -np.sin(a[i])],[ np.sin(a[i]),np.cos(a[i])]])\n",
    "        xr = x.dot(rot) # application de la rotation\n",
    "        coord = np.vstack((coord,xr+coord[-1,:]))\n",
    "    plt.figure()\n",
    "    plt.plot(coord[:,0],coord[:,1])\n",
    "    plt.axis('off')\n",
    "    #plt.savefig(\"exlettre.png\")\n",
    "    return"
   ]
  },
  {
   "cell_type": "code",
   "execution_count": 4,
   "metadata": {},
   "outputs": [
    {
     "name": "stdout",
     "output_type": "stream",
     "text": [
      "a\n"
     ]
    },
    {
     "data": {
      "image/png": "[encoded data removed]",
      "text/plain": [
       "<Figure size 432x288 with 1 Axes>"
      ]
     },
     "metadata": {},
     "output_type": "display_data"
    }
   ],
   "source": [
    "# il s'agit d'un 'a'\n",
    "tracerLettre(X[0])\n",
    "print(Y[0]) # vérification de l'étiquette"
   ]
  },
  {
   "cell_type": "markdown",
   "metadata": {},
   "source": [
    "## A. Apprentissage d'un modèle CM (max de vraisemblance)\n",
    "### A1. Discrétisation\n",
    "\n",
    "**1 état = 1 angle**\n",
    "\n",
    "Il est nécessaire de regrouper les angles en un nombre fini d'états (par exemple 20)\n",
    "- définir un `intervalle = 360 / n_etats` (18° si on choisit 20 états)\n",
    "- discrétiser tous les signaux à l'aide de la formule `np.floor(x / intervalle)`\n",
    "    - si n_etats = 20 alors [0, 18[ => 0, [18, 36[ => 1, etc...\n",
    "\n",
    "Donner le code de la méthode `discretise(x, d)` qui prend la base des signaux et retourne une base de signaux discrétisés."
   ]
  },
  {
   "cell_type": "code",
   "execution_count": 5,
   "metadata": {},
   "outputs": [
    {
     "name": "stdout",
     "output_type": "stream",
     "text": [
      "[0 2 2 2 2 2 2 2 1 1 1 1 1 1 2 2 2 2 0 0 0 0 0]\n"
     ]
    }
   ],
   "source": [
    "def discretise(x, n_etats):\n",
    "    return np.array([np.floor(element/(360/n_etats)).astype(int) for element in x], dtype=object)\n",
    "\n",
    "print(discretise(X,3)[0])"
   ]
  },
  {
   "cell_type": "markdown",
   "metadata": {},
   "source": [
    "**VALIDATION :** code du premier signal avec une discrétisation sur 3 états:\n",
    "```python\n",
    "array([ 0.,  2.,  2.,  2.,  2.,  2.,  2.,  2.,  1.,  1.,  1.,  1., 1., 1., 2., 2.,  2.,\n",
    "       2.,  0.,  0.,  0.,  0.,  0.])\n",
    "```"
   ]
  },
  {
   "cell_type": "markdown",
   "metadata": {},
   "source": [
    "### A2. Regrouper les indices des signaux par classe (pour faciliter l'apprentissage)"
   ]
  },
  {
   "cell_type": "code",
   "execution_count": 6,
   "metadata": {},
   "outputs": [
    {
     "name": "stdout",
     "output_type": "stream",
     "text": [
      "[(array([ 0,  1,  2,  3,  4,  5,  6,  7,  8,  9, 10], dtype=int64),), (array([11, 12, 13, 14, 15, 16, 17, 18, 19, 20, 21], dtype=int64),), (array([22, 23, 24, 25, 26, 27, 28, 29, 30, 31, 32], dtype=int64),), (array([33, 34, 35, 36, 37, 38, 39, 40, 41, 42, 43], dtype=int64),), (array([44, 45, 46, 47, 48, 49, 50, 51, 52, 53, 54], dtype=int64),), (array([55, 56, 57, 58, 59, 60, 61, 62, 63, 64, 65], dtype=int64),), (array([66, 67, 68, 69, 70, 71, 72, 73, 74, 75, 76], dtype=int64),), (array([77, 78, 79, 80, 81, 82, 83, 84, 85, 86, 87], dtype=int64),), (array([88, 89, 90, 91, 92, 93, 94, 95, 96, 97], dtype=int64),), (array([ 98,  99, 100, 101, 102, 103, 104, 105, 106, 107], dtype=int64),), (array([108, 109, 110, 111, 112, 113, 114, 115, 116, 117], dtype=int64),), (array([118, 119, 120, 121, 122, 123, 124, 125, 126, 127], dtype=int64),), (array([128, 129, 130, 131, 132, 133, 134, 135, 136, 137], dtype=int64),), (array([138, 139, 140, 141, 142, 143, 144, 145, 146, 147], dtype=int64),), (array([148, 149, 150, 151, 152, 153, 154, 155, 156, 157], dtype=int64),), (array([158, 159, 160, 161, 162, 163, 164, 165, 166, 167], dtype=int64),), (array([168, 169, 170, 171, 172, 173, 174, 175, 176, 177], dtype=int64),), (array([178, 179, 180, 181, 182, 183, 184, 185, 186, 187], dtype=int64),), (array([188, 189, 190, 191, 192, 193, 194, 195, 196, 197], dtype=int64),), (array([198, 199, 200, 201, 202, 203, 204, 205, 206, 207], dtype=int64),), (array([208, 209, 210, 211, 212, 213, 214, 215, 216, 217], dtype=int64),), (array([218, 219, 220, 221, 222, 223, 224, 225, 226, 227], dtype=int64),), (array([228, 229, 230, 231, 232, 233, 234, 235, 236, 237], dtype=int64),), (array([238, 239, 240, 241, 242, 243, 244, 245, 246, 247], dtype=int64),), (array([248, 249, 250, 251, 252, 253, 254, 255, 256, 257], dtype=int64),), (array([258, 259, 260, 261, 262, 263, 264, 265, 266, 267], dtype=int64),)]\n"
     ]
    }
   ],
   "source": [
    "def groupByLabel(y):\n",
    "    \n",
    "    return [np.where (y == classe) for classe in np.unique(y)]\n",
    "\n",
    "print(groupByLabel(Y))"
   ]
  },
  {
   "cell_type": "markdown",
   "metadata": {},
   "source": [
    "Cette méthode produit simplement une structure type:\n",
    "```python\n",
    "[array([ 0,  1,  2,  3,  4,  5,  6,  7,  8,  9, 10]),\n",
    " array([11, 12, 13, 14, 15, 16, 17, 18, 19, 20, 21]),\n",
    " array([22, 23, 24, 25, 26, 27, 28, 29, 30, 31, 32]),\n",
    " array([33, 34, 35, 36, 37, 38, 39, 40, 41, 42, 43]),\n",
    " array([44, 45, 46, 47, 48, 49, 50, 51, 52, 53, 54]),\n",
    " array([55, 56, 57, 58, 59, 60, 61, 62, 63, 64, 65]),\n",
    " ...\n",
    "```\n",
    "Chaque ligne regroupe les indices de signaux correspondant à une classe. Il y a donc 11 exemples de 'a'."
   ]
  },
  {
   "cell_type": "markdown",
   "metadata": {},
   "source": [
    "### A3. Apprendre les modèles CM\n",
    "\n",
    "Soit {$X_C$} la base de signaux discrétisés correspondant à une classe {$C$} et {$d$} le nombre d'états. Donner le code de la fonction `learnMarkovModel(Xc, d)` qui retourne un tuple contenant Pi et A.\n",
    "\n",
    "Rappel:\n",
    "- Initialisation de \n",
    "```python\n",
    " A = np.zeros((d, d))\n",
    " Pi = np.zeros(d)\n",
    "```\n",
    "- Parcours de tous les signaux et incréments de A et Pi\n",
    "- Normalisation (un peu réfléchie pour éviter les divisions par 0)\n",
    "```python\n",
    "A = A / np.maximum(A.sum(1).reshape(d, 1), 1) # normalisation\n",
    "Pi = Pi / Pi.sum()\n",
    "```\n",
    "\n",
    "**Note** : la solution proposée pour gérer le cas des lignes entièrement à 0 est naïve et n'est pas totalement satisfaisante. Comprendre pourquoi. On proposera une solution améliorée plus loin dans le TME. "
   ]
  },
  {
   "cell_type": "code",
   "execution_count": 7,
   "metadata": {},
   "outputs": [
    {
     "name": "stdout",
     "output_type": "stream",
     "text": [
      "(array([0.36363636, 0.        , 0.63636364]), array([[0.84444444, 0.06666667, 0.08888889],\n",
      "       [0.        , 0.83333333, 0.16666667],\n",
      "       [0.11382114, 0.06504065, 0.82113821]]))\n"
     ]
    }
   ],
   "source": [
    "def learnMarkovModel(Xc, d):\n",
    "    A = np.zeros((d, d))\n",
    "    Pi = np.zeros(d) \n",
    "\n",
    "    for i in range(len(Xc)):\n",
    "        Pi[Xc[i][0]] += 1\n",
    "    \n",
    "    for i in range(len(Xc)):\n",
    "        for j in range(1,Xc[i].shape[0]):  \n",
    "            A[Xc[i][j-1],Xc[i][j]] += 1\n",
    "            \n",
    "    A = A / np.maximum(A.sum(1).reshape(d, 1), 1)\n",
    "    Pi = Pi / Pi.sum()\n",
    "    return Pi, A\n",
    "\n",
    "print(learnMarkovModel(discretise(X[groupByLabel(Y)[0]],3), 3))"
   ]
  },
  {
   "cell_type": "markdown",
   "metadata": {},
   "source": [
    "**Validation :** premier modèle avec une discrétisation sur 3 états :\n",
    "```python\n",
    "(array([ 0.36363636,  0.        ,  0.63636364]),\n",
    " array([[ 0.84444444,  0.06666667,  0.08888889],\n",
    "       [ 0.        ,  0.83333333,  0.16666667],\n",
    "       [ 0.11382114,  0.06504065,  0.82113821]]))\n",
    "```"
   ]
  },
  {
   "cell_type": "markdown",
   "metadata": {},
   "source": [
    "### A4. Stocker les modèles dans une liste\n",
    "\n",
    "Pour un usage ultérieur plus facile, on utilise le code suivant :"
   ]
  },
  {
   "cell_type": "code",
   "execution_count": 8,
   "metadata": {
    "scrolled": true
   },
   "outputs": [
    {
     "name": "stdout",
     "output_type": "stream",
     "text": [
      "(array([0.27272727, 0.        , 0.09090909, 0.        , 0.        ,\n",
      "       0.        , 0.        , 0.        , 0.        , 0.        ,\n",
      "       0.        , 0.        , 0.        , 0.        , 0.        ,\n",
      "       0.        , 0.        , 0.18181818, 0.27272727, 0.18181818]), array([[0.4       , 0.45      , 0.        , 0.        , 0.        ,\n",
      "        0.        , 0.        , 0.        , 0.        , 0.        ,\n",
      "        0.        , 0.        , 0.        , 0.        , 0.        ,\n",
      "        0.        , 0.        , 0.        , 0.1       , 0.05      ],\n",
      "       [0.13333333, 0.66666667, 0.2       , 0.        , 0.        ,\n",
      "        0.        , 0.        , 0.        , 0.        , 0.        ,\n",
      "        0.        , 0.        , 0.        , 0.        , 0.        ,\n",
      "        0.        , 0.        , 0.        , 0.        , 0.        ],\n",
      "       [0.        , 0.2       , 0.6       , 0.        , 0.        ,\n",
      "        0.        , 0.        , 0.        , 0.        , 0.        ,\n",
      "        0.        , 0.        , 0.        , 0.        , 0.        ,\n",
      "        0.        , 0.        , 0.        , 0.        , 0.2       ],\n",
      "       [0.        , 0.        , 0.        , 0.        , 0.        ,\n",
      "        0.        , 1.        , 0.        , 0.        , 0.        ,\n",
      "        0.        , 0.        , 0.        , 0.        , 0.        ,\n",
      "        0.        , 0.        , 0.        , 0.        , 0.        ],\n",
      "       [0.        , 0.        , 0.        , 0.        , 0.        ,\n",
      "        0.        , 0.        , 0.        , 0.        , 0.        ,\n",
      "        0.        , 0.        , 0.        , 0.        , 0.        ,\n",
      "        0.        , 0.        , 0.        , 0.        , 0.        ],\n",
      "       [0.        , 0.        , 0.        , 0.        , 0.        ,\n",
      "        0.        , 0.        , 0.        , 0.        , 0.        ,\n",
      "        0.        , 0.        , 0.        , 0.        , 0.        ,\n",
      "        0.        , 0.        , 0.        , 0.        , 0.        ],\n",
      "       [0.        , 0.        , 0.        , 0.        , 0.        ,\n",
      "        0.        , 0.        , 0.25      , 0.25      , 0.5       ,\n",
      "        0.        , 0.        , 0.        , 0.        , 0.        ,\n",
      "        0.        , 0.        , 0.        , 0.        , 0.        ],\n",
      "       [0.        , 0.        , 0.        , 0.        , 0.        ,\n",
      "        0.        , 0.        , 0.        , 0.33333333, 0.66666667,\n",
      "        0.        , 0.        , 0.        , 0.        , 0.        ,\n",
      "        0.        , 0.        , 0.        , 0.        , 0.        ],\n",
      "       [0.        , 0.        , 0.        , 0.        , 0.        ,\n",
      "        0.        , 0.        , 0.        , 0.25      , 0.25      ,\n",
      "        0.5       , 0.        , 0.        , 0.        , 0.        ,\n",
      "        0.        , 0.        , 0.        , 0.        , 0.        ],\n",
      "       [0.        , 0.        , 0.        , 0.        , 0.        ,\n",
      "        0.        , 0.        , 0.        , 0.        , 0.        ,\n",
      "        0.83333333, 0.16666667, 0.        , 0.        , 0.        ,\n",
      "        0.        , 0.        , 0.        , 0.        , 0.        ],\n",
      "       [0.        , 0.        , 0.        , 0.        , 0.        ,\n",
      "        0.        , 0.        , 0.        , 0.        , 0.07692308,\n",
      "        0.15384615, 0.76923077, 0.        , 0.        , 0.        ,\n",
      "        0.        , 0.        , 0.        , 0.        , 0.        ],\n",
      "       [0.        , 0.        , 0.        , 0.        , 0.        ,\n",
      "        0.        , 0.        , 0.        , 0.        , 0.        ,\n",
      "        0.17647059, 0.17647059, 0.58823529, 0.05882353, 0.        ,\n",
      "        0.        , 0.        , 0.        , 0.        , 0.        ],\n",
      "       [0.        , 0.        , 0.        , 0.        , 0.        ,\n",
      "        0.        , 0.        , 0.        , 0.0625    , 0.        ,\n",
      "        0.        , 0.        , 0.3125    , 0.625     , 0.        ,\n",
      "        0.        , 0.        , 0.        , 0.        , 0.        ],\n",
      "       [0.        , 0.        , 0.        , 0.        , 0.        ,\n",
      "        0.        , 0.        , 0.        , 0.        , 0.        ,\n",
      "        0.        , 0.        , 0.        , 0.08333333, 0.5       ,\n",
      "        0.41666667, 0.        , 0.        , 0.        , 0.        ],\n",
      "       [0.        , 0.        , 0.        , 0.        , 0.        ,\n",
      "        0.        , 0.        , 0.        , 0.        , 0.        ,\n",
      "        0.        , 0.        , 0.        , 0.        , 0.125     ,\n",
      "        0.375     , 0.25      , 0.25      , 0.        , 0.        ],\n",
      "       [0.        , 0.        , 0.        , 0.0625    , 0.        ,\n",
      "        0.        , 0.        , 0.        , 0.        , 0.        ,\n",
      "        0.        , 0.0625    , 0.        , 0.        , 0.0625    ,\n",
      "        0.3125    , 0.1875    , 0.25      , 0.0625    , 0.        ],\n",
      "       [0.        , 0.        , 0.        , 0.        , 0.        ,\n",
      "        0.        , 0.04545455, 0.04545455, 0.        , 0.        ,\n",
      "        0.        , 0.04545455, 0.04545455, 0.        , 0.        ,\n",
      "        0.13636364, 0.40909091, 0.04545455, 0.04545455, 0.18181818],\n",
      "       [0.        , 0.        , 0.        , 0.03030303, 0.        ,\n",
      "        0.        , 0.        , 0.        , 0.        , 0.        ,\n",
      "        0.03030303, 0.03030303, 0.        , 0.        , 0.        ,\n",
      "        0.        , 0.24242424, 0.39393939, 0.18181818, 0.09090909],\n",
      "       [0.125     , 0.04166667, 0.        , 0.        , 0.        ,\n",
      "        0.        , 0.        , 0.04166667, 0.        , 0.        ,\n",
      "        0.        , 0.        , 0.        , 0.        , 0.        ,\n",
      "        0.        , 0.        , 0.375     , 0.33333333, 0.08333333],\n",
      "       [0.5       , 0.        , 0.        , 0.        , 0.        ,\n",
      "        0.        , 0.07142857, 0.        , 0.        , 0.        ,\n",
      "        0.        , 0.        , 0.        , 0.        , 0.        ,\n",
      "        0.        , 0.        , 0.14285714, 0.21428571, 0.07142857]]))\n"
     ]
    }
   ],
   "source": [
    "d = 20                   # paramètre de discrétisation\n",
    "Xd = discretise(X, d)    # application de la discrétisation\n",
    "index = groupByLabel(Y)  # groupement des signaux par classe\n",
    "models = []\n",
    "for cl in range(len(np.unique(Y))): # parcours de toutes les classes et optimisation des modèles\n",
    "    models.append(learnMarkovModel(Xd[index[cl]], d))\n",
    "print(models[0])"
   ]
  },
  {
   "cell_type": "markdown",
   "metadata": {},
   "source": [
    "### A5. Distribution stationnaire\n",
    "\n",
    "La distribution stationnaire $\\mu$, pour un système ergodique, correspond à:\n",
    "\n",
    "- la distribution des états observés dans l'ensemble des données\n",
    "- la distribution obtenu après un grand nombre de passage dans $A$ à partir de n'importe quelle distribution ou état d'origine (une matrice de transition ergodique va nous permettre de converger)\n",
    "- la solution de l'équation de stabilité: $\\mu = \\mu A$\n",
    "\n",
    "Dans le cas de la lettre 'a' et d'une discrétisation en 3 états, calculer la distribution stationnaire par les deux première méthode et vérifier que vous obtenez des résultats similaires.\n",
    "\n",
    "**Note:** pour la marche aléatoire, vous construirez une boucle sur 100 iérations (borne sup) et vous sortirez dès que la somme des écarts (en absolu) entre $\\mu_t$ et $\\mu_{t+1}$ est inférieure à $10^{-3}$. Vous vérifierez ensuite que le système converge quelque soit l'état de départ (3 appel àla fonction) ou avec une initialisation aléatoire."
   ]
  },
  {
   "cell_type": "code",
   "execution_count": 9,
   "metadata": {},
   "outputs": [
    {
     "data": {
      "image/png": "[encoded data removed]",
      "text/plain": [
       "<Figure size 720x360 with 2 Axes>"
      ]
     },
     "metadata": {},
     "output_type": "display_data"
    }
   ],
   "source": [
    "def distributionLettreA(models):\n",
    "    d = models[0][0].shape[0]\n",
    "    etat = np.random.choice(d, p=models[0][0]) # tirage d'un état initial\n",
    "    seq = [etat] # initialisation de la séquence\n",
    "    for i in range(100): # génération de 100 états\n",
    "        etat = np.random.choice(d, p=models[0][1][etat])\n",
    "        seq.append(etat)\n",
    "\n",
    "    A = np.zeros((d, d))\n",
    "    for i in range(len(seq)-1):\n",
    "        A[seq[i],seq[i+1]] += 1\n",
    "    A = A / np.maximum(A.sum(1).reshape(d, 1), 1)\n",
    "    return A\n",
    "\n",
    "seq = distributionLettreA(models)\n",
    "fig, axes = plt.subplots(1, 2, figsize=(10, 5))\n",
    "axes[0].imshow(models[0][1])\n",
    "axes[0].set_title('Matrice de transition du modèle')\n",
    "axes[1].imshow(seq)\n",
    "axes[1].set_title('Matrice de transition de la séquence générée')\n",
    "plt.show()"
   ]
  },
  {
   "cell_type": "markdown",
   "metadata": {},
   "source": [
    "##  B. Test (affectation dans les classes sur critère MV)\n",
    "### B1. (log)Probabilité d'une séquence dans un modèle\n",
    "\n",
    "Donner le code de la méthode `probaSequence(s,Pi,A)` qui retourne la log-probabilité d'une séquence `s` dans le modèle {$\\lambda=\\{Pi,A\\}$} "
   ]
  },
  {
   "cell_type": "code",
   "execution_count": 10,
   "metadata": {},
   "outputs": [
    {
     "name": "stdout",
     "output_type": "stream",
     "text": [
      "[-13.491085999932636, -inf, -inf, -inf, -inf, -inf, -inf, -inf, -inf, -inf, -inf, -inf, -inf, -inf, -inf, -inf, -inf, -inf, -inf, -inf, -inf, -inf, -inf, -inf, -inf, -12.482856781808646]\n"
     ]
    },
    {
     "name": "stderr",
     "output_type": "stream",
     "text": [
      "C:\\Users\\jules\\AppData\\Local\\Temp/ipykernel_16456/1301138294.py:5: RuntimeWarning: divide by zero encountered in log\n",
      "  return np.log(Pi[int(s[0])] * produit)\n"
     ]
    }
   ],
   "source": [
    "def probaSequence(s, Pi, A):\n",
    "    produit = 1\n",
    "    for i in range(1,len(s)):\n",
    "        produit *= A[int(s[i-1])][int(s[i])]\n",
    "    return np.log(Pi[int(s[0])] * produit)\n",
    "\n",
    "\n",
    "d = 3                 # paramètre de discrétisation\n",
    "Xd = discretise(X, d)    # application de la discrétisation\n",
    "index = groupByLabel(Y)  # groupement des signaux par classe\n",
    "models = []\n",
    "for cl in range(len(np.unique(Y))): # parcours de toutes les classes et optimisation des modèles\n",
    "    models.append(learnMarkovModel(Xd[index[cl]], d))\n",
    "    \n",
    "sequence = discretise(X[0], 3)\n",
    "print([probaSequence(sequence, models[i][0], models[i][1])for i in range(len(models))])"
   ]
  },
  {
   "cell_type": "markdown",
   "metadata": {},
   "source": [
    "**VALIDATION :** probabilité du premier signal dans les 26 modèles avec une discrétisation sur 3 états :\n",
    "```python\n",
    "array([-13.491086  ,         -inf,         -inf,         -inf,\n",
    "               -inf,         -inf,         -inf,         -inf,\n",
    "               -inf,         -inf,         -inf,         -inf,\n",
    "               -inf,         -inf,         -inf,         -inf,\n",
    "               -inf,         -inf,         -inf,         -inf,\n",
    "               -inf,         -inf,         -inf,         -inf,\n",
    "               -inf, -12.48285678])\n",
    "```\n",
    "\n",
    "- Ce signal est-il bien classé ? \n",
    "- D'où viennent tous les `-inf` ? Du produit de probabilités égales à 0."
   ]
  },
  {
   "cell_type": "markdown",
   "metadata": {},
   "source": [
    "### B2. Application de la méthode précédente pour tous les signaux et tous les modèles de lettres\n",
    "\n",
    "L'application se fait en une ligne de code si vous avez respecté les spécifications précédentes : "
   ]
  },
  {
   "cell_type": "code",
   "execution_count": 11,
   "metadata": {},
   "outputs": [
    {
     "name": "stdout",
     "output_type": "stream",
     "text": [
      "[[-13.491086   -10.38325849 -10.70816592 ... -18.3696345  -13.74527613\n",
      "  -20.59178751]\n",
      " [        -inf         -inf         -inf ...         -inf         -inf\n",
      "          -inf]\n",
      " [        -inf         -inf         -inf ...         -inf         -inf\n",
      "          -inf]\n",
      " ...\n",
      " [        -inf         -inf         -inf ...         -inf         -inf\n",
      "          -inf]\n",
      " [        -inf         -inf         -inf ...         -inf         -inf\n",
      "          -inf]\n",
      " [-12.48285678         -inf         -inf ... -14.76870842 -11.9972425\n",
      "  -17.91075189]]\n"
     ]
    },
    {
     "name": "stderr",
     "output_type": "stream",
     "text": [
      "C:\\Users\\jules\\AppData\\Local\\Temp/ipykernel_16456/1301138294.py:5: RuntimeWarning: divide by zero encountered in log\n",
      "  return np.log(Pi[int(s[0])] * produit)\n"
     ]
    }
   ],
   "source": [
    "proba = np.array([[probaSequence(Xd[i], models[cl][0], models[cl][1]) for i in range(len(Xd))]\n",
    "                  for cl in range(len(np.unique(Y)))])\n",
    "print(proba)"
   ]
  },
  {
   "cell_type": "markdown",
   "metadata": {},
   "source": [
    "### B3. Evaluation des performances\n",
    "\n",
    "Pour l'évaluation, nous proposons l'approche suivante: "
   ]
  },
  {
   "cell_type": "code",
   "execution_count": 12,
   "metadata": {},
   "outputs": [
    {
     "data": {
      "text/plain": [
       "0.6902985074626866"
      ]
     },
     "execution_count": 12,
     "metadata": {},
     "output_type": "execute_result"
    }
   ],
   "source": [
    "# calcul d'une version numérique des Y :\n",
    "Ynum = np.zeros(Y.shape)\n",
    "for num, char in enumerate(np.unique(Y)):\n",
    "    Ynum[Y == char] = num\n",
    "    \n",
    "# Calcul de la classe la plus probable :\n",
    "pred = proba.argmax(0) # max colonne par colonne\n",
    "\n",
    "# Calcul d'un pourcentage de bonne classification :\n",
    "np.where(pred != Ynum, 0.,1.).mean()"
   ]
  },
  {
   "cell_type": "code",
   "execution_count": 13,
   "metadata": {},
   "outputs": [
    {
     "name": "stderr",
     "output_type": "stream",
     "text": [
      "C:\\Users\\jules\\AppData\\Local\\Temp/ipykernel_16456/1301138294.py:5: RuntimeWarning: divide by zero encountered in log\n",
      "  return np.log(Pi[int(s[0])] * produit)\n"
     ]
    },
    {
     "data": {
      "text/plain": [
       "0.914179104477612"
      ]
     },
     "execution_count": 13,
     "metadata": {},
     "output_type": "execute_result"
    }
   ],
   "source": [
    "d = 20                   # paramètre de discrétisation\n",
    "Xd = discretise(X, d)    # application de la discrétisation\n",
    "index = groupByLabel(Y)  # groupement des signaux par classe\n",
    "models = []\n",
    "for cl in range(len(np.unique(Y))): # parcours de toutes les classes et optimisation des modèles\n",
    "    models.append(learnMarkovModel(Xd[index[cl]], d))\n",
    "\n",
    "proba = np.array([[probaSequence(Xd[i], models[cl][0], models[cl][1]) for i in range(len(Xd))]\n",
    "                  for cl in range(len(np.unique(Y)))])\n",
    "\n",
    "# calcul d'une version numérique des Y :\n",
    "Ynum = np.zeros(Y.shape)\n",
    "for num, char in enumerate(np.unique(Y)):\n",
    "    Ynum[Y == char] = num\n",
    "    \n",
    "# Calcul de la classe la plus probable :\n",
    "pred = proba.argmax(0) # max colonne par colonne\n",
    "\n",
    "# Calcul d'un pourcentage de bonne classification :\n",
    "np.where(pred != Ynum, 0.,1.).mean()"
   ]
  },
  {
   "cell_type": "markdown",
   "metadata": {},
   "source": [
    "**INDICE DE PERFORMANCE :** 91% de bonne classification avec 20 états, 69% avec 3 états"
   ]
  },
  {
   "cell_type": "markdown",
   "metadata": {},
   "source": [
    "## C. Biais d'évaluation, notion de sur-apprentissage\n",
    "\n",
    "Dans le protocole précédent, nous avons triché:\n",
    "- les données servent d'abord à apprendre les modèles...\n",
    "- puis nous nous servons des mêmes données pour tester les modèles ! Les performances sont forcément bonnes ! \n",
    "\n",
    "Afin de palier le problème, nous allons diviser en deux la base de données: une partie servira à l'apprentissage des modèles, l'autre à leur évaluation. Pour effectuer la division, nous fournissons le code suivant: "
   ]
  },
  {
   "cell_type": "code",
   "execution_count": 14,
   "metadata": {},
   "outputs": [],
   "source": [
    "# separation app/test, pc=ratio de points en apprentissage\n",
    "def separeTrainTest(y, pc):\n",
    "    indTrain = []\n",
    "    indTest = []\n",
    "    for i in np.unique(y): # pour toutes les classes\n",
    "        ind, = np.where(y == i)\n",
    "        n = len(ind)\n",
    "        indTrain.append(ind[np.random.permutation(n)][:int(np.floor(pc * n))])\n",
    "        indTest.append(np.setdiff1d(ind, indTrain[-1]))\n",
    "    return indTrain, indTest\n",
    "\n",
    "# exemple d'utilisation\n",
    "itrain, itest = separeTrainTest(Y, 0.8)"
   ]
  },
  {
   "cell_type": "markdown",
   "metadata": {},
   "source": [
    "dans `itrain`, nous obtenons les indices des signaux qui doivent servir en apprentissage pour chaque classe :"
   ]
  },
  {
   "cell_type": "code",
   "execution_count": 15,
   "metadata": {},
   "outputs": [
    {
     "data": {
      "text/plain": [
       "[array([6, 5, 8, 0, 7, 9, 4, 2], dtype=int64),\n",
       " array([17, 20, 18, 13, 12, 21, 19, 11], dtype=int64),\n",
       " array([28, 26, 32, 24, 23, 22, 29, 25], dtype=int64),\n",
       " array([36, 34, 38, 35, 40, 39, 43, 41], dtype=int64),\n",
       " array([50, 51, 45, 54, 52, 44, 46, 53], dtype=int64),\n",
       " array([58, 55, 62, 64, 65, 59, 60, 61], dtype=int64),\n",
       " array([76, 75, 69, 72, 71, 70, 68, 73], dtype=int64),\n",
       " array([81, 79, 85, 77, 86, 82, 84, 87], dtype=int64),\n",
       " array([92, 88, 95, 96, 91, 94, 97, 90], dtype=int64),\n",
       " array([105, 103, 104, 106, 102,  98, 107, 100], dtype=int64),\n",
       " array([115, 110, 117, 112, 109, 108, 114, 113], dtype=int64),\n",
       " array([122, 126, 118, 124, 121, 123, 119, 125], dtype=int64),\n",
       " array([128, 137, 129, 133, 132, 136, 130, 131], dtype=int64),\n",
       " array([139, 145, 147, 144, 142, 138, 146, 143], dtype=int64),\n",
       " array([156, 153, 148, 149, 157, 150, 155, 152], dtype=int64),\n",
       " array([161, 166, 163, 167, 162, 158, 160, 159], dtype=int64),\n",
       " array([176, 174, 172, 169, 170, 173, 175, 168], dtype=int64),\n",
       " array([181, 183, 187, 185, 179, 180, 184, 182], dtype=int64),\n",
       " array([194, 191, 189, 190, 193, 197, 188, 196], dtype=int64),\n",
       " array([203, 198, 205, 202, 201, 199, 206, 207], dtype=int64),\n",
       " array([210, 216, 209, 212, 215, 213, 211, 214], dtype=int64),\n",
       " array([227, 224, 225, 222, 226, 223, 218, 221], dtype=int64),\n",
       " array([237, 232, 236, 233, 228, 234, 230, 231], dtype=int64),\n",
       " array([241, 244, 246, 242, 238, 239, 245, 240], dtype=int64),\n",
       " array([254, 255, 248, 252, 251, 253, 249, 250], dtype=int64),\n",
       " array([262, 267, 260, 259, 258, 266, 263, 265], dtype=int64)]"
      ]
     },
     "execution_count": 15,
     "metadata": {},
     "output_type": "execute_result"
    }
   ],
   "source": [
    "itrain"
   ]
  },
  {
   "cell_type": "markdown",
   "metadata": {},
   "source": [
    "**Note :** pour faciliter l'évaluation des modèles, vous aurez besoin de re-fusionner tous les indices d'apprentissage et de test. Cela se fait avec les lignes de code suivantes : "
   ]
  },
  {
   "cell_type": "code",
   "execution_count": 16,
   "metadata": {},
   "outputs": [],
   "source": [
    "ia = []\n",
    "for i in itrain:\n",
    "    ia += i.tolist()    \n",
    "it = []\n",
    "for i in itest:\n",
    "    it += i.tolist()"
   ]
  },
  {
   "cell_type": "markdown",
   "metadata": {},
   "source": [
    "**Note 2 :** Du fait de la permutation aléatoire, les résultats vont bouger (un peu) à chaque execution du programme. "
   ]
  },
  {
   "cell_type": "markdown",
   "metadata": {},
   "source": [
    "### C1. Questions importantes\n",
    "- Ré-utiliser les fonctions précédemment définies pour apprendre des modèles et les évaluer sans biais.\n",
    "- Calculer et analyser les résultats obtenus en apprentissage et en test\n",
    "- Etudier l'évolution des performances en fonction de la discrétisation"
   ]
  },
  {
   "cell_type": "code",
   "execution_count": 17,
   "metadata": {},
   "outputs": [
    {
     "name": "stderr",
     "output_type": "stream",
     "text": [
      "C:\\Users\\jules\\AppData\\Local\\Temp/ipykernel_16456/1301138294.py:5: RuntimeWarning: divide by zero encountered in log\n",
      "  return np.log(Pi[int(s[0])] * produit)\n"
     ]
    },
    {
     "data": {
      "text/plain": [
       "0.6333333333333333"
      ]
     },
     "execution_count": 17,
     "metadata": {},
     "output_type": "execute_result"
    }
   ],
   "source": [
    "# pour 3 classe \n",
    "d = 3                 # paramètre de discrétisation\n",
    "Xd = discretise(X, d)    # application de la discrétisation\n",
    "index = itrain  # groupement des signaux par classe\n",
    "models = []\n",
    "for cl in range(len(np.unique(Y))): # parcours de toutes les classes et optimisation des modèles\n",
    "    models.append(learnMarkovModel(Xd[index[cl]], d))\n",
    "\n",
    "proba = np.array([[probaSequence(Xd[i], models[cl][0], models[cl][1]) for i in range(len(Xd))]\n",
    "                    for cl in range(len(np.unique(Y)))])\n",
    "\n",
    "# calcul d'une version numérique des Y :\n",
    "Ynum = np.zeros(Y.shape)\n",
    "for num, char in enumerate(np.unique(Y)):\n",
    "    Ynum[Y == char] = num\n",
    "    \n",
    "# Calcul de la classe la plus probable :\n",
    "pred = proba.argmax(0) # max colonne par colonne\n",
    "\n",
    "# Calcul d'un pourcentage de bonne classification :\n",
    "np.where(pred[it] != Ynum[it], 0.,1.).mean()"
   ]
  },
  {
   "cell_type": "code",
   "execution_count": 18,
   "metadata": {},
   "outputs": [],
   "source": [
    "def eval_model(X, Y, nb_classe, pc):\n",
    "    itrain, itest = separeTrainTest(Y, pc)\n",
    "\n",
    "    ia = []\n",
    "    for i in itrain:\n",
    "        ia += i.tolist()    \n",
    "    it = []\n",
    "    for i in itest:\n",
    "        it += i.tolist()\n",
    "\n",
    "    Xd = discretise(X, nb_classe)    # application de la discrétisation\n",
    "    index = itrain\n",
    "    models = []\n",
    "\n",
    "    for cl in range(len(np.unique(Y))):\n",
    "        models.append(learnMarkovModel(Xd[index[cl]], nb_classe))\n",
    "    \n",
    "    proba = np.array([[probaSequence(Xd[i], models[cl][0], models[cl][1]) for i in range(len(Xd))]\n",
    "                  for cl in range(len(np.unique(Y)))])\n",
    "\n",
    "    Ynum = np.zeros(Y.shape)\n",
    "    for num, char in enumerate(np.unique(Y)):\n",
    "        Ynum[Y == char] = num\n",
    "    pred = proba.argmax(0)\n",
    "\n",
    "    eval_train = np.where(pred[ia] != Ynum[ia], 0.,1.).mean()\n",
    "    eval_test = np.where(pred[it] != Ynum[it], 0.,1.).mean()\n",
    "\n",
    "    return eval_train, eval_test"
   ]
  },
  {
   "cell_type": "code",
   "execution_count": 19,
   "metadata": {},
   "outputs": [
    {
     "name": "stderr",
     "output_type": "stream",
     "text": [
      "C:\\Users\\jules\\AppData\\Local\\Temp/ipykernel_16456/1301138294.py:5: RuntimeWarning: divide by zero encountered in log\n",
      "  return np.log(Pi[int(s[0])] * produit)\n"
     ]
    }
   ],
   "source": [
    "abscisse = np.arange(3,31,1)\n",
    "score = np.array([[eval_model(X, Y, i, 0.8) for _ in range(100)] for i in abscisse])"
   ]
  },
  {
   "cell_type": "code",
   "execution_count": 20,
   "metadata": {},
   "outputs": [
    {
     "data": {
      "image/png": "[encoded data removed]",
      "text/plain": [
       "<Figure size 720x432 with 1 Axes>"
      ]
     },
     "metadata": {},
     "output_type": "display_data"
    }
   ],
   "source": [
    "def pourcentage_bonnes_classifications(score, pos):\n",
    "    return str(int(score*100)) + \"%\"\n",
    "\n",
    "median = np.median(score, axis=1)\n",
    "quant_25 = np.quantile(score, 0.25, axis=1)\n",
    "quant_75 = np.quantile(score, 0.75, axis=1)\n",
    "fig, ax = plt.subplots(figsize=(10, 6))\n",
    "ax.plot(abscisse, median[:, 0], label='train')\n",
    "ax.fill_between(abscisse, quant_25[:, 0], quant_75[:, 0], alpha=0.2)\n",
    "ax.fill_between(abscisse, quant_25[:, 1], quant_75[:, 1], alpha=0.2)\n",
    "ax.plot(abscisse, median[:, 1], label='test')\n",
    "ax.set_xlabel('nombre de classe')\n",
    "ax.set_ylabel('performance')\n",
    "ax.set_yticks(np.arange(0, 1.1, 0.1))\n",
    "ax.yaxis.set_major_formatter(pourcentage_bonnes_classifications)\n",
    "ax.legend()\n",
    "ax.set(title='Performance en fonction du nombre de classe', xlim=(np.min(abscisse), np.max(abscisse)), ylim=(0, 1.1))\n",
    "ax.grid(linestyle='--')\n",
    "plt.show()"
   ]
  },
  {
   "cell_type": "markdown",
   "metadata": {},
   "source": [
    "### C2. Lutter contre le sur-apprentissage\n",
    "Cette base de données met en lumière le phénomène de sur-apprentissage : il y a peu de données et dès que le nombre d'états augmente, il y a trop peu d'exemple pour estimer correctement les matrices {$A, \\pi$}. De nombreuses cases sont donc à 0, voire des lignes entières (d'où la sécurisation du code pour la normalisation des matrices stochastiques).\n",
    "\n",
    "Ces 0 sont particulièrement discriminants: considérant la classe {$c$}, ils permettent d'éliminer de cette classe tout signal présentant cette caractéristique. Cette règle est trop forte compte tenu de la taille de la base d'apprentissage. Nous proposons une astuce pour palier cette faiblesse : lors du comptage, initialiser les matrices {$A, \\pi$} avec ones au lieu de zeros . On fait semblant d'avoir observer une transition de chaque type avant même le début du comptage.\n",
    "\n",
    "Comparer les performances en test."
   ]
  },
  {
   "cell_type": "code",
   "execution_count": 21,
   "metadata": {},
   "outputs": [
    {
     "name": "stdout",
     "output_type": "stream",
     "text": [
      "(array([0.35714286, 0.07142857, 0.57142857]), array([[0.8125    , 0.08333333, 0.10416667],\n",
      "       [0.01449275, 0.8115942 , 0.17391304],\n",
      "       [0.11904762, 0.07142857, 0.80952381]]))\n"
     ]
    }
   ],
   "source": [
    "def learnMarkovModel2(Xc, d):\n",
    "    A = np.ones((d, d))\n",
    "    Pi = np.ones(d) \n",
    "\n",
    "    for i in range(len(Xc)):\n",
    "        Pi[Xc[i][0]] += 1\n",
    "    \n",
    "    for i in range(len(Xc)):\n",
    "        for j in range(1,Xc[i].shape[0]):  \n",
    "            A[Xc[i][j-1],Xc[i][j]] += 1\n",
    "            \n",
    "    A = A / np.maximum(A.sum(1).reshape(d, 1), 1)\n",
    "    Pi = Pi / Pi.sum()\n",
    "    return Pi, A\n",
    "\n",
    "print(learnMarkovModel2(discretise(X[groupByLabel(Y)[0]],3), 3))"
   ]
  },
  {
   "cell_type": "code",
   "execution_count": 22,
   "metadata": {},
   "outputs": [],
   "source": [
    "def eval_model2(X, Y, nb_classe, pc):\n",
    "    itrain, itest = separeTrainTest(Y, pc)\n",
    "\n",
    "    ia = []\n",
    "    for i in itrain:\n",
    "        ia += i.tolist()    \n",
    "    it = []\n",
    "    for i in itest:\n",
    "        it += i.tolist()\n",
    "\n",
    "    Xd = discretise(X, nb_classe)    # application de la discrétisation\n",
    "    index = itrain\n",
    "    models = []\n",
    "\n",
    "    for cl in range(len(np.unique(Y))):\n",
    "        models.append(learnMarkovModel2(Xd[index[cl]], nb_classe))\n",
    "    \n",
    "    proba = np.array([[probaSequence(Xd[i], models[cl][0], models[cl][1]) for i in range(len(Xd))]\n",
    "                  for cl in range(len(np.unique(Y)))])\n",
    "\n",
    "    Ynum = np.zeros(Y.shape)\n",
    "    for num, char in enumerate(np.unique(Y)):\n",
    "        Ynum[Y == char] = num\n",
    "    pred = proba.argmax(0)\n",
    "\n",
    "    eval_train = np.where(pred[ia] != Ynum[ia], 0.,1.).mean()\n",
    "    eval_test = np.where(pred[it] != Ynum[it], 0.,1.).mean()\n",
    "\n",
    "    return eval_train, eval_test"
   ]
  },
  {
   "cell_type": "code",
   "execution_count": 23,
   "metadata": {},
   "outputs": [],
   "source": [
    "score_limit_overfitting = np.array([[eval_model2(X, Y, i, 0.8) for _ in range(100)] for i in abscisse])"
   ]
  },
  {
   "cell_type": "code",
   "execution_count": 24,
   "metadata": {},
   "outputs": [
    {
     "data": {
      "image/png": "[encoded data removed]",
      "text/plain": [
       "<Figure size 720x432 with 1 Axes>"
      ]
     },
     "metadata": {},
     "output_type": "display_data"
    }
   ],
   "source": [
    "fig, ax = plt.subplots(figsize=(10, 6))\n",
    "\n",
    "median = np.median(score, axis=1)\n",
    "quant_25 = np.quantile(score, 0.25, axis=1)\n",
    "quant_75 = np.quantile(score, 0.75, axis=1)\n",
    "\n",
    "ax.plot(abscisse, median[:, 0], label='train')\n",
    "ax.fill_between(abscisse, quant_25[:, 0], quant_75[:, 0], alpha=0.2)\n",
    "ax.fill_between(abscisse, quant_25[:, 1], quant_75[:, 1], alpha=0.2)\n",
    "ax.plot(abscisse, median[:, 1], label='test')\n",
    "\n",
    "median = np.median(score_limit_overfitting, axis=1)\n",
    "quant_25 = np.quantile(score_limit_overfitting, 0.25, axis=1)\n",
    "quant_75 = np.quantile(score_limit_overfitting, 0.75, axis=1)\n",
    "\n",
    "ax.plot(abscisse, median[:, 0], label='train2')\n",
    "ax.fill_between(abscisse, quant_25[:, 0], quant_75[:, 0], alpha=0.2)\n",
    "ax.fill_between(abscisse, quant_25[:, 1], quant_75[:, 1], alpha=0.2)\n",
    "ax.plot(abscisse, median[:, 1], label='test2')\n",
    "\n",
    "ax.set_xlabel('nombre de classe')\n",
    "ax.set_ylabel('performance')\n",
    "ax.set_yticks(np.arange(0, 1.1, 0.1))\n",
    "ax.yaxis.set_major_formatter(pourcentage_bonnes_classifications)\n",
    "ax.legend()\n",
    "ax.set(title='Performance en fonction du nombre de classe', xlim=(np.min(abscisse), np.max(abscisse)), ylim=(0, 1.1))\n",
    "ax.grid(linestyle='--')\n",
    "plt.show()\n",
    "\n",
    "# TODO changer la couleur des courbes et nom des labels"
   ]
  },
  {
   "cell_type": "markdown",
   "metadata": {},
   "source": [
    "## D. Evaluation qualitative\n",
    "\n",
    "Nous nous demandons maintenant où se trouvent les erreurs que nous avons commises...\n",
    "\n",
    "Calcul de la matrice de confusion: pour chaque échantillon de test, nous avons une prédiction (issue du modèle) et une vérité terrain (la vraie étiquette). En posant Nc le nombre de classes, la matrice de confusion est une matrice (Nc x Nc) où nous comptons le nombre d'échantillon de test dans chaque catégorie :\n",
    "\n",
    "- Initialisation à 0 : "
   ]
  },
  {
   "cell_type": "code",
   "execution_count": 34,
   "metadata": {},
   "outputs": [],
   "source": [
    "conf = np.zeros((26,26))"
   ]
  },
  {
   "cell_type": "markdown",
   "metadata": {},
   "source": [
    "- Pour chaque échantillon, incrément de la case (prediction, vérité)"
   ]
  },
  {
   "cell_type": "code",
   "execution_count": 35,
   "metadata": {},
   "outputs": [],
   "source": [
    "pc = 0.8\n",
    "nb_classe = 20\n",
    "itrain, itest = separeTrainTest(Y, pc)\n",
    "\n",
    "ia = []\n",
    "for i in itrain:\n",
    "    ia += i.tolist()    \n",
    "it = []\n",
    "for i in itest:\n",
    "    it += i.tolist()\n",
    "\n",
    "Xd = discretise(X, nb_classe)    # application de la discrétisation\n",
    "index = itrain\n",
    "models = []\n",
    "\n",
    "for cl in range(len(np.unique(Y))):\n",
    "    models.append(learnMarkovModel2(Xd[index[cl]], nb_classe))\n",
    "\n",
    "proba = np.array([[probaSequence(Xd[i], models[cl][0], models[cl][1]) for i in range(len(Xd))]\n",
    "                for cl in range(len(np.unique(Y)))])\n",
    "\n",
    "Ynum = np.zeros(Y.shape)\n",
    "for num, char in enumerate(np.unique(Y)):\n",
    "    Ynum[Y == char] = num\n",
    "pred = proba.argmax(0)\n",
    "\n",
    "for i in it:\n",
    "    conf[int(Ynum[i])][int(pred[i])] += 1\n",
    "\n"
   ]
  },
  {
   "cell_type": "markdown",
   "metadata": {},
   "source": [
    "- Tracé de la matrice : "
   ]
  },
  {
   "cell_type": "code",
   "execution_count": 36,
   "metadata": {},
   "outputs": [
    {
     "data": {
      "image/png": "[encoded data removed]",
      "text/plain": [
       "<Figure size 432x288 with 2 Axes>"
      ]
     },
     "metadata": {},
     "output_type": "display_data"
    }
   ],
   "source": [
    "plt.figure()\n",
    "plt.imshow(conf, interpolation = 'nearest')\n",
    "plt.colorbar()\n",
    "plt.xticks(np.arange(26), np.unique(Y))\n",
    "plt.yticks(np.arange(26), np.unique(Y))\n",
    "plt.xlabel(u'Vérité terrain')\n",
    "plt.ylabel(u'Prédiction')\n",
    "plt.show()\n",
    "#plt.savefig(\"mat_conf_lettres.png\")"
   ]
  },
  {
   "cell_type": "markdown",
   "metadata": {},
   "source": [
    "## E. Modèle génératif\n",
    "\n",
    "Utiliser les modèles appris pour générer de nouvelles lettres manuscrites.\n",
    "\n",
    "### E1. Tirage selon une loi de probabilité discrète\n",
    "\n",
    "- faire la somme cumulée de la loi {$sc$}\n",
    "- tirer un nombre aléatoire {$t$} entre 0 et 1\n",
    "- trouver la première valeur de {$sc$} qui est supérieure à {$t$}\n",
    "- retourner cet état \n",
    "\n",
    "**Note :** comme vu en cours, tout repose sur la somme cumulée (notée ici `sc$`, calculable en appelant `np.cumsum`. Sur un exemple: la loi `V = [0.2, 0.4, 0.3, 0.1]` a pour somme cumulée `V.cumsum() == [0.2,  0.6,  0.9,  1.0]`\n",
    "\n",
    "### E2. Génération d'une séquence de longueur N\n",
    "\n",
    "- tirer un état {$s_0$} selon Pi\n",
    "- tant que la longueur n'est pas atteinte :\n",
    "  - tirer un état {$s_{t+1}$} selon {$A[s_{t}]$} "
   ]
  },
  {
   "cell_type": "code",
   "execution_count": 566,
   "metadata": {},
   "outputs": [],
   "source": [
    "def generate(Pi, A, nb_etats):\n",
    "    X = np.zeros(nb_etats, dtype=int)\n",
    "    X[0] = np.random.choice(len(Pi), p=Pi)\n",
    "    for i in range(1, nb_etats):\n",
    "        X[i] = np.random.choice(len(A), p=A[X[i-1]])\n",
    "    return X"
   ]
  },
  {
   "cell_type": "markdown",
   "metadata": {},
   "source": [
    "### E3. Affichage du résultat"
   ]
  },
  {
   "cell_type": "code",
   "execution_count": 567,
   "metadata": {},
   "outputs": [
    {
     "data": {
      "image/png": "[encoded data removed]",
      "text/plain": [
       "<Figure size 432x288 with 1 Axes>"
      ]
     },
     "metadata": {},
     "output_type": "display_data"
    }
   ],
   "source": [
    "d = 20\n",
    "newa = generate(models[0][0], models[0][1], 23)       # generation d'une séquence d'états\n",
    "intervalle = 360. / d                                 # pour passer des états => valeur d'angles\n",
    "newa_continu = np.array([i * intervalle for i in newa]) # conv int => double\n",
    "tracerLettre(newa_continu)                            # affichage de la lettre"
   ]
  }
 ],
 "metadata": {
  "kernelspec": {
   "display_name": "Python 3.9.9 64-bit",
   "language": "python",
   "name": "python3"
  },
  "language_info": {
   "codemirror_mode": {
    "name": "ipython",
    "version": 3
   },
   "file_extension": ".py",
   "mimetype": "text/x-python",
   "name": "python",
   "nbconvert_exporter": "python",
   "pygments_lexer": "ipython3",
   "version": "3.9.9"
  },
  "vscode": {
   "interpreter": {
    "hash": "c54729246953d9d2ad4ddf8d564d920ffef127c8bf3a29f89ddabc8e69a6293a"
   }
  }
 },
 "nbformat": 4,
 "nbformat_minor": 4
}
